{
  "nbformat": 4,
  "nbformat_minor": 0,
  "metadata": {
    "colab": {
      "provenance": [],
      "authorship_tag": "ABX9TyN8iEElx+QaXEV2SKZf7DGb",
      "include_colab_link": true
    },
    "kernelspec": {
      "name": "python3",
      "display_name": "Python 3"
    },
    "language_info": {
      "name": "python"
    }
  },
  "cells": [
    {
      "cell_type": "markdown",
      "metadata": {
        "id": "view-in-github",
        "colab_type": "text"
      },
      "source": [
        "<a href=\"https://colab.research.google.com/github/NRIMA001/CSC221_nrima001/blob/main/Assignment9_10.ipynb\" target=\"_parent\"><img src=\"https://colab.research.google.com/assets/colab-badge.svg\" alt=\"Open In Colab\"/></a>"
      ]
    },
    {
      "cell_type": "code",
      "execution_count": null,
      "metadata": {
        "colab": {
          "base_uri": "https://localhost:8080/"
        },
        "id": "Dhh1p0NnabXb",
        "outputId": "dee67704-3b6f-415c-dd23-dd94c77662e6"
      },
      "outputs": [
        {
          "output_type": "stream",
          "name": "stdout",
          "text": [
            "A number:4\n",
            "16\n"
          ]
        }
      ],
      "source": [
        "#Function-1 Calculation\n",
        "#To calculate the square of a number"
      ]
    },
    {
      "cell_type": "code",
      "source": [
        "#Function-1 Code\n",
        "\"\"\"Calculate the square of a input number\"\"\"\n",
        "def square(num):\n",
        "  return num**2\n",
        "\n",
        "num = int(input(\"A number:\"))\n",
        "print (square(num))"
      ],
      "metadata": {
        "colab": {
          "base_uri": "https://localhost:8080/"
        },
        "id": "X_BkvUV2nbah",
        "outputId": "7bfd73ac-d18e-4464-a4aa-e096ebaa7615"
      },
      "execution_count": null,
      "outputs": [
        {
          "output_type": "stream",
          "name": "stdout",
          "text": [
            "A number:12\n",
            "144\n"
          ]
        }
      ]
    },
    {
      "cell_type": "code",
      "source": [
        "#Test case for Function 1\n",
        "num = 7\n",
        "assert square(num) == 49"
      ],
      "metadata": {
        "id": "fF11-AaCneRS"
      },
      "execution_count": null,
      "outputs": []
    },
    {
      "cell_type": "code",
      "source": [
        "#Function-2 Text as input\n",
        "#To count the vowels"
      ],
      "metadata": {
        "id": "TSytXW67nscV"
      },
      "execution_count": null,
      "outputs": []
    },
    {
      "cell_type": "code",
      "source": [
        "#Function-2 Code:\n",
        "def count_vowels(text):\n",
        "  vowels = \"aeiouAEIOU\"\n",
        "  count = 0\n",
        "  for char in text:\n",
        "    if char in vowels:\n",
        "      count += 1\n",
        "  return count\n",
        "\n",
        "text = input(\"Word:\")\n",
        "print (count_vowels(text))"
      ],
      "metadata": {
        "colab": {
          "base_uri": "https://localhost:8080/"
        },
        "id": "je4ngRhCo_lq",
        "outputId": "66adef2b-a5f2-4d83-949c-98164080b806"
      },
      "execution_count": 15,
      "outputs": [
        {
          "output_type": "stream",
          "name": "stdout",
          "text": [
            "Word:akjsdb'\n",
            "1\n"
          ]
        }
      ]
    },
    {
      "cell_type": "code",
      "source": [
        "#Test case for Function 2\n",
        "assert count_vowels(\"Hello World!\") == 3\n",
        "assert count_vowels(\"Python is awesome\") == 6"
      ],
      "metadata": {
        "id": "yEnOKHGRqAFm"
      },
      "execution_count": null,
      "outputs": []
    },
    {
      "cell_type": "code",
      "source": [
        "#Function-3 Variable number of arguments\n",
        "#To find the product of the input variable numbers"
      ],
      "metadata": {
        "id": "FsVMKoBBrnks"
      },
      "execution_count": null,
      "outputs": []
    },
    {
      "cell_type": "code",
      "source": [
        "#Function-3 Code:\n",
        "\n",
        "def calculate_product(args):\n",
        "  product = 1\n",
        "  for num in args:\n",
        "    product *= num\n",
        "  return product\n",
        "\n",
        "#args = (1,2,3)\n",
        "#print (calculate_product(args))"
      ],
      "metadata": {
        "id": "ddEm3wIOqXoQ"
      },
      "execution_count": 11,
      "outputs": []
    },
    {
      "cell_type": "code",
      "source": [
        "#Test cases for Function 3\n",
        "assert calculate_product(1, 4, 5) == 20\n",
        "assert calculate_product(5, 10, 2) == 100"
      ],
      "metadata": {
        "colab": {
          "base_uri": "https://localhost:8080/",
          "height": 180
        },
        "id": "O7ZVUF2HrmHA",
        "outputId": "f5fed87a-b381-4e15-eaef-df074f315458"
      },
      "execution_count": 14,
      "outputs": [
        {
          "output_type": "error",
          "ename": "TypeError",
          "evalue": "calculate_product() takes 1 positional argument but 3 were given",
          "traceback": [
            "\u001b[0;31m---------------------------------------------------------------------------\u001b[0m",
            "\u001b[0;31mTypeError\u001b[0m                                 Traceback (most recent call last)",
            "\u001b[0;32m<ipython-input-14-f5c106639a7e>\u001b[0m in \u001b[0;36m<cell line: 2>\u001b[0;34m()\u001b[0m\n\u001b[1;32m      1\u001b[0m \u001b[0;31m#Test cases for Function 3\u001b[0m\u001b[0;34m\u001b[0m\u001b[0;34m\u001b[0m\u001b[0m\n\u001b[0;32m----> 2\u001b[0;31m \u001b[0;32massert\u001b[0m \u001b[0mcalculate_product\u001b[0m\u001b[0;34m(\u001b[0m\u001b[0;36m1\u001b[0m\u001b[0;34m,\u001b[0m \u001b[0;36m4\u001b[0m\u001b[0;34m,\u001b[0m \u001b[0;36m5\u001b[0m\u001b[0;34m)\u001b[0m \u001b[0;34m==\u001b[0m \u001b[0;36m20\u001b[0m\u001b[0;34m\u001b[0m\u001b[0;34m\u001b[0m\u001b[0m\n\u001b[0m\u001b[1;32m      3\u001b[0m \u001b[0;32massert\u001b[0m \u001b[0mcalculate_product\u001b[0m\u001b[0;34m(\u001b[0m\u001b[0;36m5\u001b[0m\u001b[0;34m,\u001b[0m \u001b[0;36m10\u001b[0m\u001b[0;34m,\u001b[0m \u001b[0;36m2\u001b[0m\u001b[0;34m)\u001b[0m \u001b[0;34m==\u001b[0m \u001b[0;36m100\u001b[0m\u001b[0;34m\u001b[0m\u001b[0;34m\u001b[0m\u001b[0m\n",
            "\u001b[0;31mTypeError\u001b[0m: calculate_product() takes 1 positional argument but 3 were given"
          ]
        }
      ]
    },
    {
      "cell_type": "code",
      "source": [
        "#Function-4. Return Multiple items\n",
        "#To find sum and average of list of numbers"
      ],
      "metadata": {
        "id": "GwKQ9ytnsyAO"
      },
      "execution_count": null,
      "outputs": []
    },
    {
      "cell_type": "code",
      "source": [
        "#Function 4 Code:\n",
        "def calculate_sum_and_average(numbers):\n",
        "  total_sum = sum(numbers)\n",
        "  avg = total_sum/ len(numbers)\n",
        "  return total_sum, avg"
      ],
      "metadata": {
        "id": "9BWXZDsDSMlV"
      },
      "execution_count": 8,
      "outputs": []
    },
    {
      "cell_type": "code",
      "source": [
        "#Test cases\n",
        "assert calculate_sum_and_average([1, 2, 3, 4, 5]) == (15, 3.0)\n",
        "assert calculate_sum_and_average([10, 20, 30]) == (60, 20.0)"
      ],
      "metadata": {
        "id": "yNCd_ZvATvxb"
      },
      "execution_count": 9,
      "outputs": []
    },
    {
      "cell_type": "code",
      "source": [
        "#Function-5\n",
        "#To sort list of numbers in descending order"
      ],
      "metadata": {
        "id": "pT0zmzHbV_SZ"
      },
      "execution_count": null,
      "outputs": []
    },
    {
      "cell_type": "code",
      "source": [
        "#Function5 Code:\n",
        "def sort_descending(numbers):\n",
        "  return sorted(numbers, reverse=True)"
      ],
      "metadata": {
        "id": "-UK0zLIaUfvH"
      },
      "execution_count": 1,
      "outputs": []
    },
    {
      "cell_type": "code",
      "source": [
        "#Function5 Test\n",
        "numbers_input = [5, 2, 8, 1, 3]\n",
        "assert sort_descending(numbers_input) == [8, 5, 3, 2, 1]"
      ],
      "metadata": {
        "id": "xfoLA4AjUiJc"
      },
      "execution_count": 2,
      "outputs": []
    },
    {
      "cell_type": "code",
      "source": [
        "#Function-6\n",
        "#To count the elements in the dictionary"
      ],
      "metadata": {
        "id": "WwFUv97YVuCp"
      },
      "execution_count": null,
      "outputs": []
    },
    {
      "cell_type": "code",
      "source": [
        "#function6 code:\n",
        "from collections import Counter\n",
        "def count_elements(elements):\n",
        "  return dict(Counter(elements))"
      ],
      "metadata": {
        "id": "UBRHUlNaWX0m"
      },
      "execution_count": 5,
      "outputs": []
    },
    {
      "cell_type": "code",
      "source": [
        "#function6 test\n",
        "assert count_elements([1,1,1,2,3,3,4,4]) == {1: 3,2: 1,3: 2,4: 2}\n",
        "assert count_elements([\"aaa\",\"aaa\",\"aaa\",\"aaa\",\"bbb\",\"bbb\",\"ccc\"]) == {\"aaa\":4, \"bbb\":2, \"ccc\":1}"
      ],
      "metadata": {
        "id": "u9N5-2wwWn56"
      },
      "execution_count": 7,
      "outputs": []
    },
    {
      "cell_type": "code",
      "source": [
        "#Function7\n",
        "#to check if the secret number is correct in the given range given by the user"
      ],
      "metadata": {
        "id": "HddkDuisXeyR"
      },
      "execution_count": null,
      "outputs": []
    },
    {
      "cell_type": "code",
      "source": [
        "#Function7 code:\n",
        "import random\n",
        "\n",
        "def check_guess(low,high):\n",
        "\n",
        "  attempt = 0\n",
        "  secret_number = random.randint(low,high)\n",
        "  answer = None\n",
        "\n",
        "  while answer != secret_number:\n",
        "    answer = int(input(f\"Guess the number between {low} and {high}:  \"))\n",
        "    attempt += 1\n",
        "    if answer > secret_number:\n",
        "      print (\"Go lower\")\n",
        "    elif answer < secret_number:\n",
        "      print (\"Go higher\")\n",
        "    else:\n",
        "      print (f\"Correct, you got it in {attempt} attempts\")\n",
        "      break"
      ],
      "metadata": {
        "colab": {
          "base_uri": "https://localhost:8080/"
        },
        "id": "dLM9kmxZYwhP",
        "outputId": "d346ca02-6336-4fe2-8a06-4f3b4a75611b"
      },
      "execution_count": 29,
      "outputs": [
        {
          "output_type": "stream",
          "name": "stdout",
          "text": [
            "Guess the number between 1 and 10:  5\n",
            "Correct, you got it in 1 attempts\n",
            "None\n"
          ]
        }
      ]
    },
    {
      "cell_type": "code",
      "source": [
        "#Functio7 test:\n",
        "print (check_guess(1,10))"
      ],
      "metadata": {
        "colab": {
          "base_uri": "https://localhost:8080/"
        },
        "id": "ryYITYRNbhlg",
        "outputId": "7a734772-0dcc-426c-880d-f0cd581a7e2f"
      },
      "execution_count": 30,
      "outputs": [
        {
          "output_type": "stream",
          "name": "stdout",
          "text": [
            "Guess the number between 1 and 10:  6\n",
            "Go lower\n",
            "Guess the number between 1 and 10:  55\n",
            "Go lower\n",
            "Guess the number between 1 and 10:  4\n",
            "Go lower\n",
            "Guess the number between 1 and 10:  3\n",
            "Go lower\n",
            "Guess the number between 1 and 10:  2\n",
            "Go lower\n",
            "Guess the number between 1 and 10:  1\n",
            "Correct, you got it in 6 attempts\n",
            "None\n"
          ]
        }
      ]
    },
    {
      "cell_type": "code",
      "source": [
        "#Funtion8\n",
        "#To check if the given string is palindrone"
      ],
      "metadata": {
        "id": "yD_d-cdnboOf"
      },
      "execution_count": null,
      "outputs": []
    },
    {
      "cell_type": "code",
      "source": [
        "#Function8 code:\n",
        "def is_palindrone(text):\n",
        "  text = text.replace(\" \",\"\").lower()\n",
        "  return text == text[::-1]\n"
      ],
      "metadata": {
        "id": "qHp9zoe1b-L7"
      },
      "execution_count": 41,
      "outputs": []
    },
    {
      "cell_type": "code",
      "source": [
        "#Function8 test\n",
        "assert is_palindrone(\"racecar\") == True\n",
        "assert is_palindrone(\"nitesh\") == False"
      ],
      "metadata": {
        "id": "gzWEav_ycdlU"
      },
      "execution_count": 43,
      "outputs": []
    },
    {
      "cell_type": "code",
      "source": [
        "#FUnction9\n",
        "#Give the factorial using iteration\n"
      ],
      "metadata": {
        "id": "X1pPM5Tcdvpm"
      },
      "execution_count": 44,
      "outputs": []
    },
    {
      "cell_type": "code",
      "source": [
        "#Function9 Code:\n",
        "def factorial(numb):\n",
        "  fact = 1\n",
        "  for i in range(1, numb + 1):\n",
        "        fact *= i\n",
        "  return fact"
      ],
      "metadata": {
        "id": "ttIDN_Zqf35V"
      },
      "execution_count": 45,
      "outputs": []
    },
    {
      "cell_type": "code",
      "source": [
        "#Function test\n",
        "assert factorial(5) ==120\n",
        "assert factorial(0)==1"
      ],
      "metadata": {
        "id": "_2S7mGm5fvdO"
      },
      "execution_count": 47,
      "outputs": []
    },
    {
      "cell_type": "code",
      "source": [
        "#Function10\n",
        "#To check the number if it is prime or composite"
      ],
      "metadata": {
        "id": "QQByguIUgKuh"
      },
      "execution_count": null,
      "outputs": []
    },
    {
      "cell_type": "code",
      "source": [
        "#Function10 Code:\n",
        "def is_prime(n):\n",
        "  b=0\n",
        "  for a in range(1, n):\n",
        "    if n % a == 0:\n",
        "      b += 1\n",
        "\n",
        "  if n == 1:\n",
        "    return 'Neither Prime nor Composite'\n",
        "  elif n <= 3:\n",
        "    return True\n",
        "\n",
        "  elif b > 2:\n",
        "    return False\n",
        "  elif b <= 2:\n",
        "    return True\n",
        "\n",
        ""
      ],
      "metadata": {
        "id": "BbSmuo_7gOkE"
      },
      "execution_count": 86,
      "outputs": []
    },
    {
      "cell_type": "code",
      "source": [
        "#Function10 Test\n",
        "assert is_prime(6) == False\n",
        "assert is_prime(11) == True\n",
        "assert is_prime(2) == True"
      ],
      "metadata": {
        "id": "CmpgeeeAlc7G"
      },
      "execution_count": 87,
      "outputs": []
    }
  ]
}