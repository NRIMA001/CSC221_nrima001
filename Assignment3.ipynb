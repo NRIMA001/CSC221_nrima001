{
  "nbformat": 4,
  "nbformat_minor": 0,
  "metadata": {
    "colab": {
      "provenance": [],
      "authorship_tag": "ABX9TyN4GMTZSd84DuMhY9wZaNUm",
      "include_colab_link": true
    },
    "kernelspec": {
      "name": "python3",
      "display_name": "Python 3"
    },
    "language_info": {
      "name": "python"
    }
  },
  "cells": [
    {
      "cell_type": "markdown",
      "metadata": {
        "id": "view-in-github",
        "colab_type": "text"
      },
      "source": [
        "<a href=\"https://colab.research.google.com/github/NRIMA001/CSC221_nrima001/blob/main/Assignment3.ipynb\" target=\"_parent\"><img src=\"https://colab.research.google.com/assets/colab-badge.svg\" alt=\"Open In Colab\"/></a>"
      ]
    },
    {
      "cell_type": "code",
      "execution_count": 3,
      "metadata": {
        "colab": {
          "base_uri": "https://localhost:8080/"
        },
        "id": "cinuCUFt_uqR",
        "outputId": "51085f89-7991-4a98-a837-792b4c949bdd"
      },
      "outputs": [
        {
          "output_type": "stream",
          "name": "stdout",
          "text": [
            "Hello World\n",
            "I am Nitesh\n"
          ]
        }
      ],
      "source": [
        "#TIY 2-1\n",
        "message = 'Hello World'\n",
        "print (message)\n",
        "#TIY 2-2\n",
        "message = 'I am Nitesh'\n",
        "print (message)"
      ]
    },
    {
      "cell_type": "code",
      "source": [
        "#Nitesh Rimal Feb 11, 2024 [This is part of TIY 10]\n",
        "#2-3\n",
        "name = 'Nitesh'\n",
        "print(f'Hello {name}, how are you doing today?')\n",
        "\n",
        "#2-4\n",
        "print (name.upper())\n",
        "print (name.lower())\n",
        "print (name.title())\n",
        "\n",
        "#2-5\n",
        "print ('Nelson Mandela once said, “Education is the most powerful weapon which you can use to change the world.”')\n",
        "\n",
        "#2-6\n",
        "famous_person = \"Nelson Mandela\"\n",
        "print (f'{famous_person} once said, “Education is the most powerful weapon which you can use to change the world.”')\n",
        "\n",
        "#2-7\n",
        "print (name)\n",
        "print (f'\\nlstrip {name.lstrip()}')\n",
        "print (f'\\trstrip {name.rstrip()}')\n",
        "print (name.strip())\n"
      ],
      "metadata": {
        "id": "XzMf8YvyAkYP"
      },
      "execution_count": null,
      "outputs": []
    },
    {
      "cell_type": "code",
      "source": [
        "#Nitesh Rimal Feb 11, 2024 [This is part of TIY 10]\n",
        "#TIY 2-8\n",
        "print (4+4)\n",
        "print (12-4)\n",
        "print (4*2)\n",
        "print (24//3)\n",
        "\n",
        "#2-9\n",
        "fav_num = 8\n",
        "print (f'My favorite number is {fav_num}')"
      ],
      "metadata": {
        "colab": {
          "base_uri": "https://localhost:8080/"
        },
        "id": "bXZmiUDFDicE",
        "outputId": "82af3ffd-e273-481f-eeda-ebe55c732ff8"
      },
      "execution_count": 13,
      "outputs": [
        {
          "output_type": "stream",
          "name": "stdout",
          "text": [
            "8\n",
            "8\n",
            "8\n",
            "8\n",
            "My favorite number is 8\n"
          ]
        }
      ]
    },
    {
      "cell_type": "code",
      "source": [
        "import this"
      ],
      "metadata": {
        "id": "cPdiDnxgEtNf",
        "outputId": "b24a0110-60e0-474c-8b05-0216d654c97b",
        "colab": {
          "base_uri": "https://localhost:8080/"
        }
      },
      "execution_count": 14,
      "outputs": [
        {
          "output_type": "stream",
          "name": "stdout",
          "text": [
            "The Zen of Python, by Tim Peters\n",
            "\n",
            "Beautiful is better than ugly.\n",
            "Explicit is better than implicit.\n",
            "Simple is better than complex.\n",
            "Complex is better than complicated.\n",
            "Flat is better than nested.\n",
            "Sparse is better than dense.\n",
            "Readability counts.\n",
            "Special cases aren't special enough to break the rules.\n",
            "Although practicality beats purity.\n",
            "Errors should never pass silently.\n",
            "Unless explicitly silenced.\n",
            "In the face of ambiguity, refuse the temptation to guess.\n",
            "There should be one-- and preferably only one --obvious way to do it.\n",
            "Although that way may not be obvious at first unless you're Dutch.\n",
            "Now is better than never.\n",
            "Although never is often better than *right* now.\n",
            "If the implementation is hard to explain, it's a bad idea.\n",
            "If the implementation is easy to explain, it may be a good idea.\n",
            "Namespaces are one honking great idea -- let's do more of those!\n"
          ]
        }
      ]
    }
  ]
}