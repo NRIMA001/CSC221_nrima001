{
  "nbformat": 4,
  "nbformat_minor": 0,
  "metadata": {
    "colab": {
      "provenance": [],
      "authorship_tag": "ABX9TyN1U/ZamqhjSh2VCMwuBPFX",
      "include_colab_link": true
    },
    "kernelspec": {
      "name": "python3",
      "display_name": "Python 3"
    },
    "language_info": {
      "name": "python"
    }
  },
  "cells": [
    {
      "cell_type": "markdown",
      "metadata": {
        "id": "view-in-github",
        "colab_type": "text"
      },
      "source": [
        "<a href=\"https://colab.research.google.com/github/NRIMA001/CSC221_nrima001/blob/main/Assignment4.ipynb\" target=\"_parent\"><img src=\"https://colab.research.google.com/assets/colab-badge.svg\" alt=\"Open In Colab\"/></a>"
      ]
    },
    {
      "cell_type": "code",
      "execution_count": null,
      "metadata": {
        "colab": {
          "base_uri": "https://localhost:8080/"
        },
        "id": "OgdKT-Rv4K34",
        "outputId": "df8f32f8-cc83-404a-da02-87dc5d1df62f"
      },
      "outputs": [
        {
          "output_type": "stream",
          "name": "stdout",
          "text": [
            "Sujal\n",
            "Aryan\n",
            "Uma\n"
          ]
        }
      ],
      "source": [
        "#TIY 3-1\n",
        "names = [\"Sujal\", \"Aryan\", \"Uma\"]\n",
        "\n",
        "print (names[0])\n",
        "print (names[1])\n",
        "print (names[2])"
      ]
    },
    {
      "cell_type": "code",
      "source": [
        "#TIY 3-2\n",
        "print(f\"Hello, {names[0]}. How are you doing?\")\n",
        "print(f\"Hello, {names[1]}. How are you doing?\")\n",
        "print(f\"Hello, {names[2]}. How are you doing?\")"
      ],
      "metadata": {
        "colab": {
          "base_uri": "https://localhost:8080/"
        },
        "id": "SZDZ4iSi4mVP",
        "outputId": "d944c44d-37a9-4428-a4b8-42d9d768aee4"
      },
      "execution_count": null,
      "outputs": [
        {
          "output_type": "stream",
          "name": "stdout",
          "text": [
            "Hello, Sujal. How are you doing?\n",
            "Hello, Aryan. How are you doing?\n",
            "Hello, Uma. How are you doing?\n"
          ]
        }
      ]
    },
    {
      "cell_type": "code",
      "source": [
        "#TIY 3-3\n",
        "transports = [\"Royal Enfield bike\", \"private jet\", \"Audi car\", \"chopper\"]\n",
        "\n",
        "print(f\"I would like to own {transports[0]}.\")\n",
        "print(f\"I would like to own {transports[1]}.\")\n",
        "print(f\"I would like to own {transports[2]}.\")\n",
        "print(f\"I would like to own {transports[3]}.\")"
      ],
      "metadata": {
        "colab": {
          "base_uri": "https://localhost:8080/"
        },
        "id": "N4jOJ2n547If",
        "outputId": "0d46359d-864a-4fda-f48e-783d1a00acce"
      },
      "execution_count": null,
      "outputs": [
        {
          "output_type": "stream",
          "name": "stdout",
          "text": [
            "I would like to own Royal Enfield bike\n",
            "I would like to own private jet\n",
            "I would like to own Audi car\n",
            "I would like to own chopper\n"
          ]
        }
      ]
    },
    {
      "cell_type": "code",
      "source": [
        "#TIY 3-4\n",
        "celebrity = [\"Miachael Jackson\", \"Harry Styles\", \"Lionel Messi\"]\n",
        "\n",
        "print(f\"Hello, {celebrity[0]}. I would like to invite you to dinner at my house.\")\n",
        "print(f\"Hello, {celebrity[1]}. I would like to invite you to dinner at my house.\")\n",
        "print(f\"Hello, {celebrity[2]}. I would like to invite you to dinner at my house.\")"
      ],
      "metadata": {
        "colab": {
          "base_uri": "https://localhost:8080/"
        },
        "id": "A6YILR2D50aW",
        "outputId": "27fb1902-10d5-4d08-faff-e39b9a8238e8"
      },
      "execution_count": null,
      "outputs": [
        {
          "output_type": "stream",
          "name": "stdout",
          "text": [
            "Hello, Miachael Jackson. I would like to invite you to dinner at my house.\n",
            "Hello, Harry Styles. I would like to invite you to dinner at my house.\n",
            "Hello, Lionel Messi. I would like to invite you to dinner at my house.\n"
          ]
        }
      ]
    },
    {
      "cell_type": "code",
      "source": [
        "#TIY 3-5\n",
        "celebrity = [\"Miachael Jackson\", \"Harry Styles\", \"Lionel Messi\"]\n",
        "\n",
        "print(f\"Hello, {celebrity[1]}. I would like to invite you to dinner at my house.\")\n",
        "print(f\"Hello, {celebrity[2]}. I would like to invite you to dinner at my house.\")\n",
        "print(f\"{celebrity[0]} will not be able to make it to the dinner.\")\n",
        "\n",
        "#Miachael Jackson will not be able to make it to the dinner.\n",
        "del(celebrity[0])\n",
        "celebrity.insert(0, \"KSI\")\n",
        "\n",
        "\n",
        "print(f\"\\nHello, {celebrity[0]}. I would like to invite you to dinner at my house.\")\n",
        "print(f\"Hello, {celebrity[1]}. I would like to invite you to dinner at my house.\")\n",
        "print(f\"Hello, {celebrity[2]}. I would like to invite you to dinner at my house.\")\n"
      ],
      "metadata": {
        "colab": {
          "base_uri": "https://localhost:8080/"
        },
        "id": "K7IT5wwa6Wfz",
        "outputId": "dd5d1d4f-fdb3-46ed-c90f-d1527a9c5f27"
      },
      "execution_count": null,
      "outputs": [
        {
          "output_type": "stream",
          "name": "stdout",
          "text": [
            "Hello, Harry Styles. I would like to invite you to dinner at my house.\n",
            "Hello, Lionel Messi. I would like to invite you to dinner at my house.\n",
            "Miachael Jackson will not be able to make it to the dinner.\n",
            "\n",
            "Hello, KSI. I would like to invite you to dinner at my house.\n",
            "Hello, Harry Styles. I would like to invite you to dinner at my house.\n",
            "Hello, Lionel Messi. I would like to invite you to dinner at my house.\n"
          ]
        }
      ]
    },
    {
      "cell_type": "code",
      "source": [
        "#3-6\n",
        "celebrity = [\"Miachael Jackson\", \"Harry Styles\", \"Lionel Messi\"]\n",
        "\n",
        "print(f\"Hello, {celebrity[1]}. I would like to invite you to dinner at my house.\")\n",
        "print(f\"Hello, {celebrity[2]}. I would like to invite you to dinner at my house.\")\n",
        "print(f\"{celebrity[0]} will not be able to make it to the dinner.\")\n",
        "\n",
        "#Miachael Jackson will not be able to make it to the dinner.\n",
        "del(celebrity[0])\n",
        "celebrity.insert(0, \"KSI\")\n",
        "\n",
        "print(f\"\\nHello, {celebrity[0]}. I would like to invite you to dinner at my house.\")\n",
        "print(f\"Hello, {celebrity[1]}. I would like to invite you to dinner at my house.\")\n",
        "print(f\"Hello, {celebrity[2]}. I would like to invite you to dinner at my house.\")\n",
        "print(f\"\\nI just received the news that we will be having three more guests.\")\n",
        "\n",
        "celebrity.insert(0, \"Cristiano Ronaldo\")\n",
        "celebrity.insert(2, \"Rajesh Hamal\")\n",
        "celebrity.append(\"Joe Biden\")\n",
        "\n",
        "print(f\"\\nHello, {celebrity[0]}. I would like to invite you to dinner at my house.\")\n",
        "print(f\"Hello, {celebrity[1]}. I would like to invite you to dinner at my house.\")\n",
        "print(f\"Hello, {celebrity[2]}. I would like to invite you to dinner at my house.\")\n",
        "print(f\"Hello, {celebrity[3]}. I would like to invite you to dinner at my house.\")\n",
        "print(f\"Hello, {celebrity[4]}. I would like to invite you to dinner at my house.\")\n",
        "print(f\"Hello, {celebrity[5]}. I would like to invite you to dinner at my house.\")"
      ],
      "metadata": {
        "colab": {
          "base_uri": "https://localhost:8080/"
        },
        "id": "P5uksdnL7ZJq",
        "outputId": "0c06b49b-0e76-4030-e1ea-f63efb42fe1c"
      },
      "execution_count": null,
      "outputs": [
        {
          "output_type": "stream",
          "name": "stdout",
          "text": [
            "Hello, Harry Styles. I would like to invite you to dinner at my house.\n",
            "Hello, Lionel Messi. I would like to invite you to dinner at my house.\n",
            "Miachael Jackson will not be able to make it to the dinner.\n",
            "\n",
            "Hello, KSI. I would like to invite you to dinner at my house.\n",
            "Hello, Harry Styles. I would like to invite you to dinner at my house.\n",
            "Hello, Lionel Messi. I would like to invite you to dinner at my house.\n",
            "\n",
            "I just received the news that we will be having three more guests.\n",
            "\n",
            "Hello, Cristiano Ronaldo. I would like to invite you to dinner at my house.\n",
            "Hello, KSI. I would like to invite you to dinner at my house.\n",
            "Hello, Rajesh Hamal. I would like to invite you to dinner at my house.\n",
            "Hello, Harry Styles. I would like to invite you to dinner at my house.\n",
            "Hello, Lionel Messi. I would like to invite you to dinner at my house.\n",
            "Hello, Joe Biden. I would like to invite you to dinner at my house.\n"
          ]
        }
      ]
    },
    {
      "cell_type": "code",
      "source": [
        "#3-6\n",
        "celebrity = [\"Miachael Jackson\", \"Harry Styles\", \"Lionel Messi\"]\n",
        "\n",
        "print(f\"Hello, {celebrity[1]}. I would like to invite you to dinner at my house.\")\n",
        "print(f\"Hello, {celebrity[2]}. I would like to invite you to dinner at my house.\")\n",
        "print(f\"{celebrity[0]} will not be able to make it to the dinner.\")\n",
        "\n",
        "#Miachael Jackson will not be able to make it to the dinner.\n",
        "del(celebrity[0])\n",
        "celebrity.insert(0, \"KSI\")\n",
        "\n",
        "print(f\"\\nHello, {celebrity[0]}. I would like to invite you to dinner at my house.\")\n",
        "print(f\"Hello, {celebrity[1]}. I would like to invite you to dinner at my house.\")\n",
        "print(f\"Hello, {celebrity[2]}. I would like to invite you to dinner at my house.\")\n",
        "print(f\"\\nI just received the news that we will be having three more guests.\")\n",
        "\n",
        "celebrity.insert(0, \"Cristiano Ronaldo\")\n",
        "celebrity.insert(2, \"Rajesh Hamal\")\n",
        "celebrity.append(\"Joe Biden\")\n",
        "\n",
        "print(f\"\\nHello, {celebrity[0]}. I would like to invite you to dinner at my house.\")\n",
        "print(f\"Hello, {celebrity[1]}. I would like to invite you to dinner at my house.\")\n",
        "print(f\"Hello, {celebrity[2]}. I would like to invite you to dinner at my house.\")\n",
        "print(f\"Hello, {celebrity[3]}. I would like to invite you to dinner at my house.\")\n",
        "print(f\"Hello, {celebrity[4]}. I would like to invite you to dinner at my house.\")\n",
        "print(f\"Hello, {celebrity[5]}. I would like to invite you to dinner at my house.\")\n",
        "\n",
        "#Since the table wont be arriving on time, we will only be inviting two people\n",
        "cancel = celebrity.pop()\n",
        "print(f\"\\nSorry {cancel}, we do not have enough room for you at the dinner.\")\n",
        "cancel = celebrity.pop()\n",
        "print(f\"Sorry {cancel}, we do not have enough room for you at the dinner.\")\n",
        "cancel = celebrity.pop()\n",
        "print(f\"Sorry {cancel}, we do not have enough room for you at the dinner.\")\n",
        "cancel = celebrity.pop()\n",
        "print(f\"Sorry {cancel}, we do not have enough room for you at the dinner.\")\n",
        "\n",
        "print(f\"\\nHello, {celebrity[0]}. I would like to invite you to dinner at my house.\")\n",
        "print(f\"Hello, {celebrity[1]}. I would like to invite you to dinner at my house.\")\n",
        "\n",
        "del(celebrity[0])\n",
        "del(celebrity[0])\n",
        "\n",
        "print(f\"\\nThe new list is: {celebrity}\")\n",
        "\n",
        "\n",
        "\n"
      ],
      "metadata": {
        "colab": {
          "base_uri": "https://localhost:8080/"
        },
        "id": "h3HWM35f8TFL",
        "outputId": "828958fd-e8e6-4f1d-a1e3-32506bd02b7f"
      },
      "execution_count": null,
      "outputs": [
        {
          "output_type": "stream",
          "name": "stdout",
          "text": [
            "Hello, Harry Styles. I would like to invite you to dinner at my house.\n",
            "Hello, Lionel Messi. I would like to invite you to dinner at my house.\n",
            "Miachael Jackson will not be able to make it to the dinner.\n",
            "\n",
            "Hello, KSI. I would like to invite you to dinner at my house.\n",
            "Hello, Harry Styles. I would like to invite you to dinner at my house.\n",
            "Hello, Lionel Messi. I would like to invite you to dinner at my house.\n",
            "\n",
            "I just received the news that we will be having three more guests.\n",
            "\n",
            "Hello, Cristiano Ronaldo. I would like to invite you to dinner at my house.\n",
            "Hello, KSI. I would like to invite you to dinner at my house.\n",
            "Hello, Rajesh Hamal. I would like to invite you to dinner at my house.\n",
            "Hello, Harry Styles. I would like to invite you to dinner at my house.\n",
            "Hello, Lionel Messi. I would like to invite you to dinner at my house.\n",
            "Hello, Joe Biden. I would like to invite you to dinner at my house.\n",
            "\n",
            "Sorry Joe Biden, we do not have enough room for you at the dinner.\n",
            "Sorry Lionel Messi, we do not have enough room for you at the dinner.\n",
            "Sorry Harry Styles, we do not have enough room for you at the dinner.\n",
            "Sorry Rajesh Hamal, we do not have enough room for you at the dinner.\n",
            "\n",
            "Hello, Cristiano Ronaldo. I would like to invite you to dinner at my house.\n",
            "Hello, KSI. I would like to invite you to dinner at my house.\n",
            "\n",
            "The new list is: []\n"
          ]
        }
      ]
    },
    {
      "cell_type": "code",
      "source": [
        "#3-8\n",
        "places = [\"spain\", \"italy\", \"paris\", \"los angeles\", \"london\"]\n",
        "\n",
        "print(f\"Original order: {places}\")\n",
        "print(f\"Alphabetically: {sorted(places)}\")\n",
        "\n",
        "print(f\"\\nOriginal order: {places}\")\n",
        "print(f\"Reverse Alphabetical order: {sorted(places, reverse=True)}\")\n",
        "\n",
        "print(f\"\\nOriginal order: {places}\")\n",
        "places.reverse()\n",
        "print(f\"Reverse order: {places}\")\n",
        "\n",
        "places.reverse()\n",
        "print(f\"\\nBack to original: {places}\")\n",
        "\n",
        "places.sort()\n",
        "print(f\"Alphabetical order: {places}\")\n",
        "\n",
        "places.sort(reverse=True)\n",
        "print(f\"Reverse alphabetical order: {places}\")"
      ],
      "metadata": {
        "colab": {
          "base_uri": "https://localhost:8080/"
        },
        "id": "-dtw8m6p9yi-",
        "outputId": "55f8b074-e68f-462f-a943-cd61118060c2"
      },
      "execution_count": null,
      "outputs": [
        {
          "output_type": "stream",
          "name": "stdout",
          "text": [
            "Original order: ['spain', 'italy', 'paris', 'los angeles', 'london']\n",
            "Alphabetically: ['italy', 'london', 'los angeles', 'paris', 'spain']\n",
            "\n",
            "Original order: ['spain', 'italy', 'paris', 'los angeles', 'london']\n",
            "Reverse Alphabetical order: ['spain', 'paris', 'los angeles', 'london', 'italy']\n",
            "\n",
            "Original order: ['spain', 'italy', 'paris', 'los angeles', 'london']\n",
            "Reverse order: ['london', 'los angeles', 'paris', 'italy', 'spain']\n",
            "\n",
            "Back to original: ['spain', 'italy', 'paris', 'los angeles', 'london']\n",
            "Alphabetical order: ['italy', 'london', 'los angeles', 'paris', 'spain']\n",
            "Reverse alphabetical order: ['spain', 'paris', 'los angeles', 'london', 'italy']\n"
          ]
        }
      ]
    }
  ]
}