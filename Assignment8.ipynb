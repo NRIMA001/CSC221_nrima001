{
  "nbformat": 4,
  "nbformat_minor": 0,
  "metadata": {
    "colab": {
      "provenance": [],
      "authorship_tag": "ABX9TyNe3hWDV+10SO5jWRCUyPh5",
      "include_colab_link": true
    },
    "kernelspec": {
      "name": "python3",
      "display_name": "Python 3"
    },
    "language_info": {
      "name": "python"
    }
  },
  "cells": [
    {
      "cell_type": "markdown",
      "metadata": {
        "id": "view-in-github",
        "colab_type": "text"
      },
      "source": [
        "<a href=\"https://colab.research.google.com/github/NRIMA001/CSC221_nrima001/blob/main/Assignment8.ipynb\" target=\"_parent\"><img src=\"https://colab.research.google.com/assets/colab-badge.svg\" alt=\"Open In Colab\"/></a>"
      ]
    },
    {
      "cell_type": "code",
      "execution_count": 1,
      "metadata": {
        "id": "8_Qv5zJ_aT22",
        "colab": {
          "base_uri": "https://localhost:8080/"
        },
        "outputId": "91ada06e-49d8-44ae-9a5d-7cddbc86cf72"
      },
      "outputs": [
        {
          "output_type": "stream",
          "name": "stdout",
          "text": [
            "Mind Platter is one of my favorite books.\n"
          ]
        }
      ],
      "source": [
        "#TIY 8-2\n",
        "def favorite_book(title):\n",
        "  \"\"\"Display the favorite book\"\"\"\n",
        "  print (f\"{title} is one of my favorite books.\")\n",
        "\n",
        "favorite_book(\"Mind Platter\")"
      ]
    },
    {
      "cell_type": "code",
      "source": [
        "#TIY 8-3\n",
        "def make_shirt(size,message):\n",
        "  print (f\"\\nI am going to make a {size} T-Shirt.\")\n",
        "  print (f\"It will say, '{message}'.\")\n",
        "\n",
        "make_shirt(\"medium\",\"Spread Kindness\")\n",
        "make_shirt(message=\"Go Champ\", size=\"large\")"
      ],
      "metadata": {
        "colab": {
          "base_uri": "https://localhost:8080/"
        },
        "id": "O7QwvVM8LC0O",
        "outputId": "0ad4da9b-3ed9-4398-9334-5ca52489123f"
      },
      "execution_count": 4,
      "outputs": [
        {
          "output_type": "stream",
          "name": "stdout",
          "text": [
            "\n",
            "I am going to make a medium T-Shirt.\n",
            "It will say, 'Spread Kindness'.\n",
            "\n",
            "I am going to make a large T-Shirt.\n",
            "It will say, 'Go Champ'.\n"
          ]
        }
      ]
    },
    {
      "cell_type": "code",
      "source": [
        "#TIY 8-4\n",
        "def make_shirt(size='large', message='I love Python!'):\n",
        "    \"\"\"Summarize the shirt that's going to be made.\"\"\"\n",
        "    print(f\"\\nI'm going to make a {size} t-shirt.\")\n",
        "    print(f'It will say, \"{message}\"')\n",
        "\n",
        "make_shirt()\n",
        "make_shirt(size='medium')\n",
        "make_shirt('small', 'I love computers')\n"
      ],
      "metadata": {
        "colab": {
          "base_uri": "https://localhost:8080/"
        },
        "id": "EJ1mK9MQL4n_",
        "outputId": "8d91aa6c-92dc-4af3-a0b1-b87af3dc581c"
      },
      "execution_count": 6,
      "outputs": [
        {
          "output_type": "stream",
          "name": "stdout",
          "text": [
            "\n",
            "I'm going to make a large t-shirt.\n",
            "It will say, \"I love Python!\"\n",
            "\n",
            "I'm going to make a medium t-shirt.\n",
            "It will say, \"I love Python!\"\n",
            "\n",
            "I'm going to make a small t-shirt.\n",
            "It will say, \"I love computers\"\n"
          ]
        }
      ]
    },
    {
      "cell_type": "code",
      "source": [
        "#FUNC8\n",
        "\n",
        "def func8(a,b,c=42):\n",
        "  total_sum = a+b+c\n",
        "  product = a*b*c\n",
        "\n",
        "  num_list = [a,b,c]\n",
        "  num_list.sort()\n",
        "\n",
        "  return total_sum,product,num_list"
      ],
      "metadata": {
        "id": "sMNZVz5fMbq3"
      },
      "execution_count": 15,
      "outputs": []
    },
    {
      "cell_type": "code",
      "source": [
        "#Test 1: T2wo arguments\n",
        "assert func8(3, 5) == (50, 630, [3, 5, 42])\n",
        "\n",
        "#Test 2: Three arguments\n",
        "assert func8(2, 4, 6) == (12, 48, [2, 4, 6])\n",
        "\n",
        "#Test 3: Negative numbers\n",
        "assert func8(-10, 5, -2) == (-7, 100, [-10, -2, 5])\n",
        "\n",
        "#Test 4: Float numbers\n",
        "assert func8(1.5, 2.5) == (46.0, 157.5, [1.5, 2.5, 42])\n",
        "\n",
        "#Test 5: Two arguments with default value for the third argument\n",
        "assert func8(8, 9) == (59, 3024, [8, 9, 42])\n",
        "\n",
        "#Test 6: Large numbers\n",
        "assert func8(1000, 2000, 3000) == (6000, 6000000000, [1000, 2000, 3000])"
      ],
      "metadata": {
        "id": "G28Jn9bjNIsm"
      },
      "execution_count": 17,
      "outputs": []
    }
  ]
}