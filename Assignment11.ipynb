{
  "nbformat": 4,
  "nbformat_minor": 0,
  "metadata": {
    "colab": {
      "provenance": [],
      "authorship_tag": "ABX9TyNAkb+rZgXCKgWvp02rjQbN",
      "include_colab_link": true
    },
    "kernelspec": {
      "name": "python3",
      "display_name": "Python 3"
    },
    "language_info": {
      "name": "python"
    }
  },
  "cells": [
    {
      "cell_type": "markdown",
      "metadata": {
        "id": "view-in-github",
        "colab_type": "text"
      },
      "source": [
        "<a href=\"https://colab.research.google.com/github/NRIMA001/CSC221_nrima001/blob/main/Assignment11.ipynb\" target=\"_parent\"><img src=\"https://colab.research.google.com/assets/colab-badge.svg\" alt=\"Open In Colab\"/></a>"
      ]
    },
    {
      "cell_type": "code",
      "source": [
        "#DOGS\n",
        "\n",
        "class Dog:\n",
        "    \"\"\"a simple attempt to model a dog.\"\"\"\n",
        "\n",
        "    def __init__(self, name, age):\n",
        "        \"\"\"initialize name and age attributes.\"\"\"\n",
        "        self.name = name\n",
        "        self.age = age\n",
        "\n",
        "    def sit(self):\n",
        "            \"\"\"simulate a dog sitting in response to a command.\"\"\"\n",
        "            print(f\"{self.name} is now sitting.\")\n",
        "    def roll_over(self):\n",
        "            \"\"\"simulate rolling over in response to a command.\"\"\"\n",
        "            print(f\"{self.name} rolled over!\")\n",
        "\n",
        "\n",
        "my_dog = Dog('Sheru', 6)\n",
        "your_dog = Dog('Tom', 3)\n",
        "\n",
        "my_dog.sit()\n",
        "my_dog.roll_over()\n",
        "\n",
        "print(f\"My dog's name is {my_dog.name}.\")\n",
        "print(f\"My dog is {my_dog.age} years old.\")\n",
        "my_dog.sit()\n",
        "\n",
        "print(f\"\\nYour dog's name is {your_dog.name}.\")\n",
        "print(f\"Your dog is {your_dog.age} years old.\")\n",
        "your_dog.sit()"
      ],
      "metadata": {
        "colab": {
          "base_uri": "https://localhost:8080/"
        },
        "id": "-qfdNbRpEI4i",
        "outputId": "e3736515-d273-46f9-e50e-3200c81fcc2e"
      },
      "execution_count": 1,
      "outputs": [
        {
          "output_type": "stream",
          "name": "stdout",
          "text": [
            "Sheru is now sitting.\n",
            "Sheru rolled over!\n",
            "My dog's name is Sheru.\n",
            "My dog is 6 years old.\n",
            "Sheru is now sitting.\n",
            "\n",
            "Your dog's name is Tom.\n",
            "Your dog is 3 years old.\n",
            "Tom is now sitting.\n"
          ]
        }
      ]
    },
    {
      "cell_type": "code",
      "source": [
        "#CARS\n",
        "class Car():\n",
        "    \"\"\"A simple attempt to represent a car.\"\"\"\n",
        "\n",
        "    def __init__(self, make, model, year):\n",
        "        \"\"\"Initialize attributes to describe a car.\"\"\"\n",
        "        self.make = make\n",
        "        self.model = model\n",
        "        self.year = year\n",
        "        self.odometer_reading = 0\n",
        "\n",
        "    def get_descriptive_name(self):\n",
        "        \"\"\"Return a neatly formatted descriptive name.\"\"\"\n",
        "        long_name = str(self.year) + ' ' + self.make + ' ' + self.model\n",
        "        return long_name.title()\n",
        "\n",
        "    def read_odometer(self):\n",
        "        \"\"\"Print a statement showing the car's mileage.\"\"\"\n",
        "        print(\"This car has \" + str(self.odometer_reading) + \" miles on it.\")\n",
        "\n",
        "    def update_odometer(self, mileage):\n",
        "        \"\"\"Set the odometer reading to the given value.\"\"\"\n",
        "        if mileage >= self.odometer_reading:\n",
        "            self.odometer_reading = mileage\n",
        "        else:\n",
        "            print(\"You can't roll back an odometer!\")\n",
        "\n",
        "    def increment_odometer(self, miles):\n",
        "        \"\"\"Add the given amount to the odometer reading.\"\"\"\n",
        "        self.odometer_reading += miles\n",
        "\n",
        "    def fill_gas_tank(self):\n",
        "        print(\"The gas tank is now full!\")\n",
        "\n",
        "my_new_car = Car('audi', 'a4', 2019)\n",
        "print(my_new_car.get_descriptive_name())\n",
        "\n",
        "my_new_car.update_odometer(23)\n",
        "my_new_car.read_odometer()\n",
        "\n",
        "my_used_car = Car('subaru', 'outback', 2015)\n",
        "print(my_used_car.get_descriptive_name())\n",
        "\n",
        "my_used_car.update_odometer(23_500)\n",
        "my_used_car.read_odometer()\n",
        "\n",
        "my_used_car.increment_odometer(100)\n",
        "my_used_car.read_odometer()\n",
        "\n",
        "\n",
        "class Battery():\n",
        "    \"\"\"A simple attempt to model a battery for an electric car.\"\"\"\n",
        "\n",
        "    def __init__(self, battery_size=70):\n",
        "        \"\"\"Initialize the battery's attributes.\"\"\"\n",
        "        self.battery_size = battery_size\n",
        "\n",
        "    def describe_battery(self):\n",
        "        \"\"\"Print a statement describing the battery size.\"\"\"\n",
        "        print(\"This car as a \" + str(self.battery_size) + \"-kWh battery.\")\n",
        "\n",
        "    def get_range(self):\n",
        "        \"\"\"Print a statement about the range this battery provides.\"\"\"\n",
        "        if self.battery_size == 70:\n",
        "            range = 240\n",
        "        elif self.battery_size == 85:\n",
        "            range = 270\n",
        "\n",
        "        message = \"This car can go approximately \" + str(range)\n",
        "        message += \" miles on a full charge.\"\n",
        "        print(message)\n",
        "\n",
        "\n",
        "class ElectricCar(Car):\n",
        "    \"\"\"Represents aspects of a car, specific to electric vehicles.\"\"\"\n",
        "    def __init__(self, make, model, year):\n",
        "        \"\"\"Initialize attributes of the parent class.\"\"\"\n",
        "        super().__init__(make, model, year)\n",
        "        self.battery = Battery()\n",
        "\n",
        "    def fill_gas_tank(self):\n",
        "        print(\"This car doesn't need gas!\")\n",
        "\n",
        "\n",
        "my_tesla = ElectricCar('tesla', 'model s', 2016)\n",
        "print(f\"\\n{my_tesla.get_descriptive_name()}\")\n",
        "\n",
        "my_tesla.battery.describe_battery()\n",
        "my_tesla.fill_gas_tank()\n",
        "my_tesla.battery.get_range()"
      ],
      "metadata": {
        "colab": {
          "base_uri": "https://localhost:8080/"
        },
        "id": "3n84Ay7ZEOyX",
        "outputId": "93a4f7f7-f58c-4e52-f26f-56c999bbc553"
      },
      "execution_count": 2,
      "outputs": [
        {
          "output_type": "stream",
          "name": "stdout",
          "text": [
            "2019 Audi A4\n",
            "This car has 23 miles on it.\n",
            "2015 Subaru Outback\n",
            "This car has 23500 miles on it.\n",
            "This car has 23600 miles on it.\n",
            "\n",
            "2016 Tesla Model S\n",
            "This car as a 70-kWh battery.\n",
            "This car doesn't need gas!\n",
            "This car can go approximately 240 miles on a full charge.\n"
          ]
        }
      ]
    },
    {
      "cell_type": "code",
      "execution_count": 3,
      "metadata": {
        "id": "666iArnWZty6",
        "colab": {
          "base_uri": "https://localhost:8080/"
        },
        "outputId": "581b7547-8f47-446e-daa4-cc15201a915f"
      },
      "outputs": [
        {
          "output_type": "stream",
          "name": "stdout",
          "text": [
            "Restaurant Name: The Thakali\n",
            "Cuisine Type: Mo:Mo:\n",
            "The Thakali is now open!\n"
          ]
        }
      ],
      "source": [
        "#TIY 9-1\n",
        "class Restaurant:\n",
        "    def __init__(self, restaurant_name, cuisine_type):\n",
        "        self.restaurant_name = restaurant_name\n",
        "        self.cuisine_type = cuisine_type\n",
        "\n",
        "    def describe_restaurant(self):\n",
        "        print(f\"Restaurant Name: {self.restaurant_name}\")\n",
        "        print(f\"Cuisine Type: {self.cuisine_type}\")\n",
        "\n",
        "    def open_restaurant(self):\n",
        "        print(f\"{self.restaurant_name} is now open!\")\n",
        "\n",
        "restaurant = Restaurant(\"The Thakali\", \"Mo:Mo:\")\n",
        "\n",
        "restaurant.describe_restaurant()\n",
        "restaurant.open_restaurant()"
      ]
    },
    {
      "cell_type": "code",
      "source": [
        "#TIY 9-2\n",
        "#TIY 9-1\n",
        "class Restaurant:\n",
        "    def __init__(self, restaurant_name, cuisine_type):\n",
        "        self.restaurant_name = restaurant_name\n",
        "        self.cuisine_type = cuisine_type\n",
        "\n",
        "    def describe_restaurant(self):\n",
        "        print(f\"Restaurant Name: {self.restaurant_name}\")\n",
        "        print(f\"Cuisine Type: {self.cuisine_type}\")\n",
        "\n",
        "    def open_restaurant(self):\n",
        "        print(f\"{self.restaurant_name} is now open!\")\n",
        "\n",
        "restaurant1 = Restaurant(\"The Everest\", \"Chowmein\")\n",
        "restaurant2 = Restaurant(\"The Annapurna\", \"Chicken Masala\")\n",
        "restaurant3 = Restaurant(\"The Ganesh\", \"Rice Daal\")\n",
        "\n",
        "\n",
        "\n",
        "restaurant1.describe_restaurant()\n",
        "restaurant1.open_restaurant()\n",
        "restaurant2.describe_restaurant()\n",
        "restaurant2.open_restaurant()\n",
        "restaurant3.describe_restaurant()\n",
        "restaurant3.open_restaurant()"
      ],
      "metadata": {
        "colab": {
          "base_uri": "https://localhost:8080/"
        },
        "id": "qI1BN9SZoCPC",
        "outputId": "7a49a093-99a6-4daa-e054-abaad5b4f70c"
      },
      "execution_count": 4,
      "outputs": [
        {
          "output_type": "stream",
          "name": "stdout",
          "text": [
            "Restaurant Name: The Everest\n",
            "Cuisine Type: Chowmein\n",
            "The Everest is now open!\n",
            "Restaurant Name: The Annapurna\n",
            "Cuisine Type: Chicken Masala\n",
            "The Annapurna is now open!\n",
            "Restaurant Name: The Ganesh\n",
            "Cuisine Type: Rice Daal\n",
            "The Ganesh is now open!\n"
          ]
        }
      ]
    },
    {
      "cell_type": "code",
      "source": [
        "#9-3\n",
        "class User:\n",
        "    def __init__(self, first_name, last_name, age, phone):\n",
        "        self.first_name = first_name\n",
        "        self.last_name = last_name\n",
        "        self.age = age\n",
        "        self.phone = phone\n",
        "\n",
        "    def describe_user(self):\n",
        "        print(f\"User Information: \")\n",
        "        print(f\"First Name: {self.first_name}\")\n",
        "        print(f\"Last Name: {self.last_name}\")\n",
        "        print(f\"Age: {self.age}\")\n",
        "        print(f\"Phone Number: {self.phone}\")\n",
        "\n",
        "    def greet_user(self):\n",
        "        print(f\"Hello, {self.first_name} {self.last_name}!\")\n",
        "\n",
        "# Create instances representing different users\n",
        "user1 = User(\"Nitesh\", \"Rimal\", 21, \"5185185188\")\n",
        "user2 = User(\"Uma\", \"Shrestha\", 20, \"98846617889\")\n",
        "user3 = User(\"Sujal\", \"Karki\", 19, \"5185193211\")\n",
        "\n",
        "# Call both methods for each user\n",
        "user1.describe_user()\n",
        "user1.greet_user()\n",
        "print()\n",
        "\n",
        "user2.describe_user()\n",
        "user2.greet_user()\n",
        "print()\n",
        "\n",
        "user3.describe_user()\n",
        "user3.greet_user()"
      ],
      "metadata": {
        "colab": {
          "base_uri": "https://localhost:8080/"
        },
        "id": "cohZNS7KpaAY",
        "outputId": "65cc6c8b-16ca-4eeb-a19f-960a07db8cc1"
      },
      "execution_count": 5,
      "outputs": [
        {
          "output_type": "stream",
          "name": "stdout",
          "text": [
            "User Information: \n",
            "First Name: Nitesh\n",
            "Last Name: Rimal\n",
            "Age: 21\n",
            "Phone Number: 5185185188\n",
            "Hello, Nitesh Rimal!\n",
            "\n",
            "User Information: \n",
            "First Name: Uma\n",
            "Last Name: Shrestha\n",
            "Age: 20\n",
            "Phone Number: 98846617889\n",
            "Hello, Uma Shrestha!\n",
            "\n",
            "User Information: \n",
            "First Name: Sujal\n",
            "Last Name: Karki\n",
            "Age: 19\n",
            "Phone Number: 5185193211\n",
            "Hello, Sujal Karki!\n"
          ]
        }
      ]
    },
    {
      "cell_type": "code",
      "source": [
        "#9-6\n",
        "class Restaurant:\n",
        "    def __init__(self, restaurant_name, cuisine_type):\n",
        "        self.restaurant_name = restaurant_name\n",
        "        self.cuisine_type = cuisine_type\n",
        "\n",
        "    def describe_restaurant(self):\n",
        "        print(f\"Restaurant Name: {self.restaurant_name}\")\n",
        "        print(f\"Cuisine Type: {self.cuisine_type}\")\n",
        "\n",
        "    def open_restaurant(self):\n",
        "        print(f\"{self.restaurant_name} is now open!\")\n",
        "\n",
        "class IceCreamStand(Restaurant):\n",
        "    def __init__(self, restaurant_name, cuisine_type=\"Ice Cream\"):\n",
        "        super().__init__(restaurant_name, cuisine_type)\n",
        "        self.flavors = []\n",
        "\n",
        "    def display_flavors(self):\n",
        "        print(\"Available Ice Cream Flavors:\")\n",
        "        for flavor in self.flavors:\n",
        "            print(flavor)\n",
        "\n",
        "ice_cream_stand = IceCreamStand(\"Ice Cream\")\n",
        "ice_cream_stand.flavors = [\"Vanilla\", \"Chocolate\", \"Strawberry\", \"Blueberry\"]\n",
        "\n",
        "ice_cream_stand.display_flavors()"
      ],
      "metadata": {
        "colab": {
          "base_uri": "https://localhost:8080/"
        },
        "id": "sziIwmvzJMx7",
        "outputId": "8d1621e6-e126-4b20-c7ce-093358cf7257"
      },
      "execution_count": 4,
      "outputs": [
        {
          "output_type": "stream",
          "name": "stdout",
          "text": [
            "Available Ice Cream Flavors:\n",
            "Vanilla\n",
            "Chocolate\n",
            "Strawberry\n",
            "Blueberry\n"
          ]
        }
      ]
    },
    {
      "cell_type": "code",
      "source": [
        "#TIY-9-7\n",
        "class User:\n",
        "    def __init__(self, first_name, last_name, age, phone):\n",
        "        self.first_name = first_name\n",
        "        self.last_name = last_name\n",
        "        self.age = age\n",
        "        self.phone = phone\n",
        "\n",
        "    def describe_user(self):\n",
        "        print(f\"User Information: \")\n",
        "        print(f\"First Name: {self.first_name}\")\n",
        "        print(f\"Last Name: {self.last_name}\")\n",
        "        print(f\"Age: {self.age}\")\n",
        "        print(f\"Phone Number: {self.phone}\")\n",
        "\n",
        "    def greet_user(self):\n",
        "        print(f\"Hello, {self.first_name} {self.last_name}!\")\n",
        "\n",
        "class Admin(User):\n",
        "    def __init__(self, first_name, last_name, age, phone):\n",
        "        super().__init__(first_name, last_name, age, phone)\n",
        "        self.privileges = [\"can add post\", \"can delete post\", \"can suspend users\"]\n",
        "\n",
        "    def show_privileges(self):\n",
        "        print(\"Admin Privileges:\")\n",
        "        for privilege in self.privileges:\n",
        "            print(privilege)\n",
        "\n",
        "\n",
        "userx = User(\"Nitesh\", \"Rimal\", 21, \"5185185188\")\n",
        "userx.describe_user()\n",
        "print (userx)\n",
        "\n",
        "admin = Admin(\"Admin\", \"User\", 30, \"admin@example.com\")\n",
        "admin.show_privileges()"
      ],
      "metadata": {
        "colab": {
          "base_uri": "https://localhost:8080/"
        },
        "id": "6gC_ljsSKe8x",
        "outputId": "4e4f5c1c-a5a9-433e-917d-0ac068063327"
      },
      "execution_count": 5,
      "outputs": [
        {
          "output_type": "stream",
          "name": "stdout",
          "text": [
            "User Information: \n",
            "First Name: Nitesh\n",
            "Last Name: Rimal\n",
            "Age: 21\n",
            "Phone Number: 5185185188\n",
            "<__main__.User object at 0x7fc6b1426410>\n",
            "Admin Privileges:\n",
            "can add post\n",
            "can delete post\n",
            "can suspend users\n"
          ]
        }
      ]
    }
  ]
}