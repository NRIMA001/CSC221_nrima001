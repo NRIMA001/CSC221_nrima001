{
  "nbformat": 4,
  "nbformat_minor": 0,
  "metadata": {
    "colab": {
      "provenance": [],
      "authorship_tag": "ABX9TyPqRx6n2R7m4KryYJsSYWNy",
      "include_colab_link": true
    },
    "kernelspec": {
      "name": "python3",
      "display_name": "Python 3"
    },
    "language_info": {
      "name": "python"
    }
  },
  "cells": [
    {
      "cell_type": "markdown",
      "metadata": {
        "id": "view-in-github",
        "colab_type": "text"
      },
      "source": [
        "<a href=\"https://colab.research.google.com/github/NRIMA001/CSC221_nrima001/blob/main/Assignment7.ipynb\" target=\"_parent\"><img src=\"https://colab.research.google.com/assets/colab-badge.svg\" alt=\"Open In Colab\"/></a>"
      ]
    },
    {
      "cell_type": "code",
      "execution_count": null,
      "metadata": {
        "colab": {
          "base_uri": "https://localhost:8080/"
        },
        "id": "1btRn7ctokCE",
        "outputId": "6f43d5bd-cd65-4754-c8aa-9257679ac371"
      },
      "outputs": [
        {
          "output_type": "stream",
          "name": "stdout",
          "text": [
            "nitesh\n",
            "rimal\n",
            "19\n",
            "Plattsburgh\n"
          ]
        }
      ],
      "source": [
        "#6-1\n",
        "person = {\n",
        "    'first name':'nitesh',\n",
        "    'last name':'rimal',\n",
        "    'age':'19',\n",
        "    'city':'Plattsburgh',\n",
        "}\n",
        "print (person['first name'])\n",
        "print (person['last name'])\n",
        "print (person['age'])\n",
        "print (person['city'])"
      ]
    },
    {
      "cell_type": "code",
      "source": [
        "#6-2\n",
        "favorite_num = {\n",
        "    'ayush':66,\n",
        "    'aryan':44,\n",
        "    'sujal':35,\n",
        "    'sandesh':11,\n",
        "    'binamra':10\n",
        "\n",
        "}\n",
        "\n",
        "num = favorite_num['ayush']\n",
        "print(f\"Ayush's favorite number is {num}.\")\n",
        "\n",
        "num = favorite_num['aryan']\n",
        "print(f\"Aryan's favorite number is {num}.\")\n",
        "\n",
        "num = favorite_num['sujal']\n",
        "print(f\"Sujal's favorite number is {num}.\")\n",
        "\n",
        "num = favorite_num['sandesh']\n",
        "print(f\"Sandesh's favorite number is {num}.\")\n",
        "\n",
        "num = favorite_num['binamra']\n",
        "print(f\"Binamra's favorite number is {num}.\")"
      ],
      "metadata": {
        "colab": {
          "base_uri": "https://localhost:8080/"
        },
        "id": "eJb-qOdkqJ9P",
        "outputId": "76eaf06d-7ca1-4664-f67c-678d0a41e4f9"
      },
      "execution_count": null,
      "outputs": [
        {
          "output_type": "stream",
          "name": "stdout",
          "text": [
            "Ayush's favorite number is 66\n",
            "Aryan's favorite number is 44\n",
            "Sujal's favorite number is 35\n",
            "Sandesh's favorite number is 11\n",
            "Binamra's favorite number is 10\n"
          ]
        }
      ]
    },
    {
      "cell_type": "code",
      "source": [
        "#6-3\n",
        "glossary = {\n",
        "    'variable':'It can be used to store value',\n",
        "    'list':'It is the collection of items',\n",
        "    'loop':'It is structure of execution for desired number of times',\n",
        "    'syntax':'It is the rule to write the code',\n",
        "    'dictionary':'It is the collection of values'\n",
        "}\n",
        "\n",
        "word = 'variable'\n",
        "print(f\"\\n{word}: {glossary[word]}\")\n",
        "\n",
        "word = 'list'\n",
        "print(f\"\\n{word}: {glossary[word]}\")\n",
        "\n",
        "word = 'loop'\n",
        "print(f\"\\n{word}: {glossary[word]}\")\n",
        "\n",
        "word = 'syntax'\n",
        "print(f\"\\n{word}: {glossary[word]}\")\n",
        "\n",
        "word = 'dictionary'\n",
        "print(f\"\\n{word}: {glossary[word]}\")"
      ],
      "metadata": {
        "colab": {
          "base_uri": "https://localhost:8080/"
        },
        "id": "fVP3ZUpAy_FX",
        "outputId": "ffe8d5fa-19b1-4415-cb46-f0bbca403174"
      },
      "execution_count": null,
      "outputs": [
        {
          "output_type": "stream",
          "name": "stdout",
          "text": [
            "\n",
            "variable: It can be used to store value\n",
            "\n",
            "list: It is the collection of items\n",
            "\n",
            "loop: It is structure of execution for desired number of times\n",
            "\n",
            "syntax: It is the rule to write the code\n",
            "\n",
            "dictionary: It is the collection of values\n"
          ]
        }
      ]
    },
    {
      "cell_type": "code",
      "source": [
        "glossary = {\n",
        "    'variable':'It can be used to store value',\n",
        "    'list':'It is the collection of items',\n",
        "    'loop':'It is structure of execution for desired number of times',\n",
        "    'syntax':'It is the rule to write the code',\n",
        "    'dictionary':'It is the collection of values',\n",
        "    'value': 'An item associated with a key in a dictionary.',\n",
        "    'conditional test': 'It is the comparison between two values.',\n",
        "    'float': 'It is a numerical value with a decimal component.',\n",
        "    'integer': 'It is the numeric value without any decimal component.',\n",
        "    'boolean expression': 'An expression that evaluates to True or False.',\n",
        "    }\n",
        "\n",
        "for word, definition in glossary.items():\n",
        "    print(f\"\\n{word}: {definition}\")\n"
      ],
      "metadata": {
        "colab": {
          "base_uri": "https://localhost:8080/"
        },
        "id": "20v86n1y1wzk",
        "outputId": "5519429f-d6f2-4049-8464-fef65625dea8"
      },
      "execution_count": null,
      "outputs": [
        {
          "output_type": "stream",
          "name": "stdout",
          "text": [
            "\n",
            "variable: It can be used to store value\n",
            "\n",
            "list: It is the collection of items\n",
            "\n",
            "loop: It is structure of execution for desired number of times\n",
            "\n",
            "syntax: It is the rule to write the code\n",
            "\n",
            "dictionary: It is the collection of values\n",
            "\n",
            "value: An item associated with a key in a dictionary.\n",
            "\n",
            "conditional test: It is the comparison between two values.\n",
            "\n",
            "float: It is a numerical value with a decimal component.\n",
            "\n",
            "integer: It is the numeric value without any decimal component.\n",
            "\n",
            "boolean expression: An expression that evaluates to True or False.\n"
          ]
        }
      ]
    },
    {
      "cell_type": "code",
      "source": [
        "cities = {\n",
        "    'Kathmandu':{\n",
        "        'country': 'Nepal',\n",
        "        'population': '1.4 million',\n",
        "        'fact': 'it is the capital city of Nepal',\n",
        "\n",
        "    },\n",
        "    'Plattsburgh':{\n",
        "        'country': 'USA',\n",
        "        'population': '20,000',\n",
        "        'fact': 'it is really close to Montreal',\n",
        "\n",
        "    },\n",
        "    'Barcelona':{\n",
        "        'country': 'Spain',\n",
        "        'population': '1.62 million',\n",
        "        'fact': 'it was the capital city of Spain from 1937 to 1939',\n",
        "\n",
        "    },\n",
        "}\n",
        "\n",
        "for city, cityinfo in cities.items():\n",
        "\n",
        "  country = cityinfo['country']\n",
        "  population = cityinfo['population']\n",
        "  fact = cityinfo['fact']\n",
        "\n",
        "  print(f\"\\n{city.title()} is in {country}.\")\n",
        "  print(f\"It has a population of about {population}.\")\n",
        "  print(f\"An interesting fact about this city is that {fact}.\")"
      ],
      "metadata": {
        "colab": {
          "base_uri": "https://localhost:8080/"
        },
        "id": "EvVUvkU94dbf",
        "outputId": "c639f90c-6606-4a5a-eb92-aa1ff96c4421"
      },
      "execution_count": null,
      "outputs": [
        {
          "output_type": "stream",
          "name": "stdout",
          "text": [
            "\n",
            "Kathmandu is in Nepal.\n",
            "It has a population of about 1.4 million.\n",
            "An interesting fact about this city is that it is the capital city of Nepal.\n",
            "\n",
            "Plattsburgh is in USA.\n",
            "It has a population of about 20,000.\n",
            "An interesting fact about this city is that it is really close to Montreal.\n",
            "\n",
            "Barcelona is in Spain.\n",
            "It has a population of about 1.62 million.\n",
            "An interesting fact about this city is that it was the capital city of Spain from 1937 to 1939.\n"
          ]
        }
      ]
    },
    {
      "cell_type": "code",
      "source": [
        "#Dictionary\n",
        "%%file dictionary_names\n",
        "nitesh, 90\n",
        "sujal, 88\n",
        "aryan, 69\n",
        "ayush, 55\n",
        "sandesh, 55\n",
        "binamra, 19\n",
        "uma, 79"
      ],
      "metadata": {
        "id": "M82ccqUx691u",
        "colab": {
          "base_uri": "https://localhost:8080/"
        },
        "outputId": "90b773f4-0cd7-496c-828a-8b4a09020b74"
      },
      "execution_count": 23,
      "outputs": [
        {
          "output_type": "stream",
          "name": "stdout",
          "text": [
            "Overwriting dictionary_names\n"
          ]
        }
      ]
    },
    {
      "cell_type": "code",
      "source": [
        "file_content = {\n",
        "    \"names\": {}\n",
        "}\n",
        "\n",
        "with open(\"dictionary_names\", \"r\") as fopen:\n",
        "  for line in fopen:\n",
        "    name, grade = line.strip().split(\",\")\n",
        "    file_content[\"names\"][name] = int(grade)\n",
        "\n",
        "print(file_content)"
      ],
      "metadata": {
        "colab": {
          "base_uri": "https://localhost:8080/"
        },
        "id": "ooxI5prLss66",
        "outputId": "d69793cd-1bbb-4f9f-bfbf-b1858b814b02"
      },
      "execution_count": 24,
      "outputs": [
        {
          "output_type": "stream",
          "name": "stdout",
          "text": [
            "{'names': {'nitesh': 90, 'sujal': 88, 'aryan': 69, 'ayush': 55, 'sandesh': 55, 'binamra': 19, 'uma': 79}}\n"
          ]
        }
      ]
    },
    {
      "cell_type": "code",
      "source": [
        "sorted_by_name = dict(sorted(file_content[\"names\"].items()))\n",
        "print(sorted_by_name)\n"
      ],
      "metadata": {
        "colab": {
          "base_uri": "https://localhost:8080/"
        },
        "id": "EvtvY_LruAD6",
        "outputId": "0a524e25-5b09-449a-b5d7-34a4ddac0f60"
      },
      "execution_count": 25,
      "outputs": [
        {
          "output_type": "stream",
          "name": "stdout",
          "text": [
            "{'aryan': 69, 'ayush': 55, 'binamra': 19, 'nitesh': 90, 'sandesh': 55, 'sujal': 88, 'uma': 79}\n"
          ]
        }
      ]
    },
    {
      "cell_type": "code",
      "source": [
        "sorted_by_grade = dict(sorted(file_content[\"names\"].items(), key = lambda item: item[1], reverse=True))\n",
        "print(sorted_by_grade)"
      ],
      "metadata": {
        "colab": {
          "base_uri": "https://localhost:8080/"
        },
        "id": "ZP_GcBLutpA7",
        "outputId": "b9c1f25d-34fe-47a0-bceb-5c2942123256"
      },
      "execution_count": 26,
      "outputs": [
        {
          "output_type": "stream",
          "name": "stdout",
          "text": [
            "{'nitesh': 90, 'sujal': 88, 'uma': 79, 'aryan': 69, 'ayush': 55, 'sandesh': 55, 'binamra': 19}\n"
          ]
        }
      ]
    }
  ]
}