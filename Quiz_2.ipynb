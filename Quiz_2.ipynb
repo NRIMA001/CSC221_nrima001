{
  "nbformat": 4,
  "nbformat_minor": 0,
  "metadata": {
    "colab": {
      "provenance": [],
      "authorship_tag": "ABX9TyPt8hwiFUdwL5gAEcpbI4cd",
      "include_colab_link": true
    },
    "kernelspec": {
      "name": "python3",
      "display_name": "Python 3"
    },
    "language_info": {
      "name": "python"
    }
  },
  "cells": [
    {
      "cell_type": "markdown",
      "metadata": {
        "id": "view-in-github",
        "colab_type": "text"
      },
      "source": [
        "<a href=\"https://colab.research.google.com/github/NRIMA001/CSC221_nrima001/blob/main/Quiz_2.ipynb\" target=\"_parent\"><img src=\"https://colab.research.google.com/assets/colab-badge.svg\" alt=\"Open In Colab\"/></a>"
      ]
    },
    {
      "cell_type": "code",
      "execution_count": 1,
      "metadata": {
        "colab": {
          "base_uri": "https://localhost:8080/"
        },
        "id": "qxvX3phYB86z",
        "outputId": "a05c587b-4c3b-4a48-9807-d0cd1d0743a0"
      },
      "outputs": [
        {
          "output_type": "stream",
          "name": "stdout",
          "text": [
            "The value is: 10\n",
            "The value is None\n"
          ]
        }
      ],
      "source": [
        "# None\n",
        "# Assigns null value to a variable\n",
        "def check_value(x):\n",
        "    if x is None:\n",
        "        print(\"The value assigned is 'None'\")\n",
        "    else:\n",
        "        print(\"The value is:\", x)\n",
        "\n",
        "\n",
        "check_value(10)\n",
        "# Example: Passing None to the function\n",
        "check_value(None)"
      ]
    },
    {
      "cell_type": "code",
      "source": [
        "# break\n",
        "# breaks/terminates the loop\n",
        "for i in range(10):\n",
        "    if i < 5:\n",
        "      print(f\"{i} is less than 5\")\n",
        "    else:\n",
        "      print(\"The loop is now going to break\")\n",
        "      break"
      ],
      "metadata": {
        "colab": {
          "base_uri": "https://localhost:8080/"
        },
        "id": "DYn_MrA4CgTr",
        "outputId": "03d4864e-165f-4806-bfa0-d02302faba2f"
      },
      "execution_count": 7,
      "outputs": [
        {
          "output_type": "stream",
          "name": "stdout",
          "text": [
            "0 is less than 5\n",
            "1 is less than 5\n",
            "2 is less than 5\n",
            "3 is less than 5\n",
            "4 is less than 5\n",
            "The loop is now going to break\n"
          ]
        }
      ]
    },
    {
      "cell_type": "code",
      "source": [
        "#in\n",
        "# Checks if an item or a sequence is present in an object\n",
        "\n",
        "animals = ['lion', 'tiger', 'elephant']\n",
        "if 'lion' in animals:\n",
        "    print('Lion is present in the list of animals')"
      ],
      "metadata": {
        "colab": {
          "base_uri": "https://localhost:8080/"
        },
        "id": "qFrm1hSyDtu7",
        "outputId": "937e9941-66d3-4fff-bae0-1c60ce705f81"
      },
      "execution_count": 8,
      "outputs": [
        {
          "output_type": "stream",
          "name": "stdout",
          "text": [
            "Lion is present in the list of animals\n"
          ]
        }
      ]
    },
    {
      "cell_type": "code",
      "source": [
        "#raise\n",
        "#To explicitly raise an exception\n",
        "class CustomError(Exception):\n",
        "    def __init__(self, message):\n",
        "        self.message = message\n",
        "\n",
        "def divide(a, b):\n",
        "    if b == 0:\n",
        "        raise CustomError(\"Division by zero is not allowed\")\n",
        "    else:\n",
        "        return a / b\n",
        "try:\n",
        "    result = divide(10, 0)\n",
        "except CustomError as e:\n",
        "    print(\"Error:\", e.message)"
      ],
      "metadata": {
        "colab": {
          "base_uri": "https://localhost:8080/"
        },
        "id": "HTElVuvDEqLT",
        "outputId": "0cfd89d4-0caa-4084-fbdb-46f91c95dfe4"
      },
      "execution_count": 12,
      "outputs": [
        {
          "output_type": "stream",
          "name": "stdout",
          "text": [
            "Error: Division by zero is not allowed\n"
          ]
        }
      ]
    },
    {
      "cell_type": "code",
      "source": [
        "#False\n",
        "# boolean value representing the concept of \"false\" or \"not true\"\n",
        "\n",
        "if False:\n",
        "    print(\"This statement won't be executed.\")\n",
        "if not False:\n",
        "    print(\"This statement will be executed.\")\n"
      ],
      "metadata": {
        "colab": {
          "base_uri": "https://localhost:8080/"
        },
        "id": "a0eWgYy4FOHk",
        "outputId": "6bfb152c-ed9c-42ff-ba8b-dc98001b673c"
      },
      "execution_count": 29,
      "outputs": [
        {
          "output_type": "stream",
          "name": "stdout",
          "text": [
            "This statement will be executed.\n"
          ]
        }
      ]
    },
    {
      "cell_type": "code",
      "source": [
        "#Await\n",
        "# to suspend the execution of an async function while waiting for an asynchronous operation to complete\n",
        "\n",
        "import asyncio\n",
        "\n",
        "async def main():\n",
        "    print(\"main() function called\")\n",
        "    return \"response\"\n",
        "\n",
        "loop = asyncio.get_running_loop()\n",
        "await loop.create_task(main())"
      ],
      "metadata": {
        "colab": {
          "base_uri": "https://localhost:8080/",
          "height": 53
        },
        "id": "0JQOQGFRhfWR",
        "outputId": "3cc29124-8014-4f5d-c206-541bc64e38bf"
      },
      "execution_count": 35,
      "outputs": [
        {
          "output_type": "stream",
          "name": "stdout",
          "text": [
            "main() function called\n"
          ]
        },
        {
          "output_type": "execute_result",
          "data": {
            "text/plain": [
              "'response'"
            ],
            "application/vnd.google.colaboratory.intrinsic+json": {
              "type": "string"
            }
          },
          "metadata": {},
          "execution_count": 35
        }
      ]
    },
    {
      "cell_type": "code",
      "source": [
        "#else\n",
        "# when the condition is not met, it provides a block of code to execute on its own\n",
        "\n",
        "import random\n",
        "\n",
        "for i in range(10):\n",
        "    num = random.randint(1, 10)\n",
        "    if num % 2 == 0:\n",
        "        print(f\"{num} is even\")\n",
        "    else:\n",
        "        print(f\"{num} is odd\")"
      ],
      "metadata": {
        "colab": {
          "base_uri": "https://localhost:8080/"
        },
        "id": "3SdTbGyvju2A",
        "outputId": "c9942b1f-653a-48cf-817d-358a8648a3d3"
      },
      "execution_count": 36,
      "outputs": [
        {
          "output_type": "stream",
          "name": "stdout",
          "text": [
            "7 is odd\n",
            "9 is odd\n",
            "4 is even\n",
            "9 is odd\n",
            "1 is odd\n",
            "9 is odd\n",
            "3 is odd\n",
            "9 is odd\n",
            "2 is even\n",
            "6 is even\n"
          ]
        }
      ]
    },
    {
      "cell_type": "code",
      "source": [
        "#import\n",
        "# to import modules or objects from modules into the current code\n",
        "\n",
        "import math\n",
        "from random import choice, randint\n",
        "from statistics import *\n",
        "import numpy as np\n",
        "\n",
        "\n",
        "def main():\n",
        "    # Using imported members\n",
        "    print(f\"{math.pi} is the value of pi\")\n",
        "    print(f\"{math.sqrt(4)} is the square root of 4\")\n",
        "    print(f\"{choice([1, 2, 3])} is a random number from the list [1, 2, 3]\")\n",
        "    print(f\"{randint(1, 10)} is a random number between 1 and 10\")\n",
        "    print(np.array([1, 2, 3]))\n",
        "\n",
        "    # Using imported module\n",
        "    print(mean([1, 2, 3]))\n",
        "\n",
        "if __name__ == \"__main__\":\n",
        "    main()\n"
      ],
      "metadata": {
        "colab": {
          "base_uri": "https://localhost:8080/"
        },
        "id": "lilRGCkEkUA7",
        "outputId": "4464989a-20df-4a88-f64f-eb62b8bd4db0"
      },
      "execution_count": 39,
      "outputs": [
        {
          "output_type": "stream",
          "name": "stdout",
          "text": [
            "3.141592653589793 is the value of pi\n",
            "2.0 is the square root of 4\n",
            "2 is a random number from the list [1, 2, 3]\n",
            "10 is a random number between 1 and 10\n",
            "[1 2 3]\n",
            "2\n"
          ]
        }
      ]
    },
    {
      "cell_type": "code",
      "source": [
        "#pass\n",
        "#  null operation, it does nothing\n",
        "\n",
        "for i in range(5):\n",
        "    if i == 2:\n",
        "        pass  # Skip executing any code for i == 2\n",
        "    else:\n",
        "        print(i)"
      ],
      "metadata": {
        "colab": {
          "base_uri": "https://localhost:8080/"
        },
        "id": "F2ozCtCOlhjZ",
        "outputId": "857f7541-0e5b-4431-b199-5e9f9586b256"
      },
      "execution_count": 67,
      "outputs": [
        {
          "output_type": "stream",
          "name": "stdout",
          "text": [
            "0\n",
            "1\n",
            "3\n",
            "4\n"
          ]
        }
      ]
    },
    {
      "cell_type": "code",
      "source": [
        "#and\n",
        "# logical operator used to combine two or more conditions\n",
        "\n",
        "x = [\"cars\", \"motorbikes\", \"aeroplanes\", \"trains\", \"buses\"]\n",
        "if \"cars\" in x and \"motorbikes\" in x:\n",
        "    print(\"The condition is met.\")\n"
      ],
      "metadata": {
        "colab": {
          "base_uri": "https://localhost:8080/"
        },
        "id": "qt5Es5_IlkRU",
        "outputId": "3f15222d-5ed4-4560-b8ce-dfd8b3583f94"
      },
      "execution_count": 69,
      "outputs": [
        {
          "output_type": "stream",
          "name": "stdout",
          "text": [
            "The condition is met.\n"
          ]
        }
      ]
    },
    {
      "cell_type": "code",
      "source": [
        "#continute\n",
        "#  to skip the remaining code inside the loop for the current iteration\n",
        "\n",
        "for i in range(10):\n",
        "    if i % 2 == 0:\n",
        "        continue\n",
        "    print(i)"
      ],
      "metadata": {
        "colab": {
          "base_uri": "https://localhost:8080/"
        },
        "id": "h50OSGa1lmyb",
        "outputId": "37cf3130-f316-4884-93d9-17eefb7199c8"
      },
      "execution_count": 70,
      "outputs": [
        {
          "output_type": "stream",
          "name": "stdout",
          "text": [
            "1\n",
            "3\n",
            "5\n",
            "7\n",
            "9\n"
          ]
        }
      ]
    },
    {
      "cell_type": "code",
      "source": [
        "#for\n",
        "# loop\n",
        "\n",
        "for i in range(3):  #outer loop\n",
        "    print(\"Outer loop, iteration:\", i)\n",
        "    for j in range(2):  #inner loop\n",
        "        print(\"    Inner loop, iteration:\", j)"
      ],
      "metadata": {
        "colab": {
          "base_uri": "https://localhost:8080/"
        },
        "id": "8VEq24-uloUR",
        "outputId": "b14be3d0-9437-46bb-8cdc-8c9b600afd19"
      },
      "execution_count": 71,
      "outputs": [
        {
          "output_type": "stream",
          "name": "stdout",
          "text": [
            "Outer loop, iteration: 0\n",
            "    Inner loop, iteration: 0\n",
            "    Inner loop, iteration: 1\n",
            "Outer loop, iteration: 1\n",
            "    Inner loop, iteration: 0\n",
            "    Inner loop, iteration: 1\n",
            "Outer loop, iteration: 2\n",
            "    Inner loop, iteration: 0\n",
            "    Inner loop, iteration: 1\n"
          ]
        }
      ]
    },
    {
      "cell_type": "code",
      "source": [
        "#lambda\n",
        "# anonymous function\n",
        "\n",
        "numbers = [1, 2, 3, 4, 5]\n",
        "\n",
        "double_function = lambda x: x * 2\n",
        "doubled_numbers = [double_function(num) for num in numbers]\n",
        "\n",
        "print(\"Original numbers:\", numbers)\n",
        "print(\"Doubled numbers:\", doubled_numbers)"
      ],
      "metadata": {
        "colab": {
          "base_uri": "https://localhost:8080/"
        },
        "id": "ubnLIrAblo1x",
        "outputId": "ba9ba28c-e2a3-4ae2-9886-bf5f43941484"
      },
      "execution_count": 73,
      "outputs": [
        {
          "output_type": "stream",
          "name": "stdout",
          "text": [
            "Original numbers: [1, 2, 3, 4, 5]\n",
            "Doubled numbers: [2, 4, 6, 8, 10]\n"
          ]
        }
      ]
    },
    {
      "cell_type": "code",
      "source": [
        "#try\n",
        "# to handle exceptions in a certain way if something occurs during the execution of a block of code\n",
        "numbers = [5, 0, 10, 2]\n",
        "\n",
        "for num in numbers:\n",
        "    try:\n",
        "        result = 10 / num\n",
        "        print(\"Result:\", result)\n",
        "    except ZeroDivisionError:\n",
        "        print(\"Error: Cannot divide by zero\")\n"
      ],
      "metadata": {
        "colab": {
          "base_uri": "https://localhost:8080/"
        },
        "id": "kRHfdIDglrI2",
        "outputId": "bb5ded5e-2573-46c3-c7bf-a3c66d2885a9"
      },
      "execution_count": 74,
      "outputs": [
        {
          "output_type": "stream",
          "name": "stdout",
          "text": [
            "Result: 2.0\n",
            "Error: Cannot divide by zero\n",
            "Result: 1.0\n",
            "Result: 5.0\n"
          ]
        }
      ]
    },
    {
      "cell_type": "code",
      "source": [
        "#True\n",
        "# boolean value representing the concept of \"true\" or \"agree/yes\"\n",
        "\n",
        "fruits = ['apple', 'banana', 'orange', 'grape', 'kiwi']\n",
        "\n",
        "for fruit in fruits:\n",
        "    print(\"Current fruit:\", fruit)\n",
        "    if fruit == 'orange':\n",
        "        print(\"Found the orange!\")\n",
        "        found_orange = True\n",
        "        break\n",
        "\n",
        "if found_orange:\n",
        "    print(\"I found an orange!\")\n",
        "else:\n",
        "    print(\"I didn't find any orange.\")"
      ],
      "metadata": {
        "colab": {
          "base_uri": "https://localhost:8080/"
        },
        "id": "Bk9nYKjQlrmF",
        "outputId": "1e61d58d-fb0e-4dff-802d-71581a4b3961"
      },
      "execution_count": 75,
      "outputs": [
        {
          "output_type": "stream",
          "name": "stdout",
          "text": [
            "Current fruit: apple\n",
            "Current fruit: banana\n",
            "Current fruit: orange\n",
            "Found the orange!\n",
            "I found an orange!\n"
          ]
        }
      ]
    },
    {
      "cell_type": "code",
      "source": [
        "#class\n",
        "# Defines object or a set of functions inside a code\n",
        "\n",
        "class Car:\n",
        "    def __init__(self, make, model):\n",
        "        self.make = make\n",
        "        self.model = model\n",
        "\n",
        "    def display_info(self):\n",
        "        print(f\"Car: {self.make} {self.model}\")\n",
        "\n",
        "cars = [\n",
        "    Car(\"Toyota\", \"Camry\"),\n",
        "    Car(\"Honda\", \"Accord\"),\n",
        "    Car(\"Ford\", \"Focus\")\n",
        "]\n",
        "\n",
        "for car in cars:\n",
        "    car.display_info()"
      ],
      "metadata": {
        "colab": {
          "base_uri": "https://localhost:8080/"
        },
        "id": "J3_zSzn8ls8r",
        "outputId": "34e49ccb-f0d2-44a4-baf4-76445fda759d"
      },
      "execution_count": 76,
      "outputs": [
        {
          "output_type": "stream",
          "name": "stdout",
          "text": [
            "Car: Toyota Camry\n",
            "Car: Honda Accord\n",
            "Car: Ford Focus\n"
          ]
        }
      ]
    },
    {
      "cell_type": "code",
      "source": [
        "#finally\n",
        "#cleanup action(block of code) that must be executed whether an exception occurs or not\n",
        "\n",
        "try:\n",
        "    for i in range(5):\n",
        "        print(\"Iteration:\", i)\n",
        "        if i == 3:\n",
        "            raise ValueError(\"An error occurred\")\n",
        "except ValueError as e:\n",
        "    print(\"Exception occurred:\", e)\n",
        "finally:\n",
        "    print(\"Cleanup code: This will always execute\")"
      ],
      "metadata": {
        "colab": {
          "base_uri": "https://localhost:8080/"
        },
        "id": "gW2afx3-lthh",
        "outputId": "f14d8d60-c328-4c80-fa27-0285e7c60aa7"
      },
      "execution_count": 77,
      "outputs": [
        {
          "output_type": "stream",
          "name": "stdout",
          "text": [
            "Iteration: 0\n",
            "Iteration: 1\n",
            "Iteration: 2\n",
            "Iteration: 3\n",
            "Exception occurred: An error occurred\n",
            "Cleanup code: This will always execute\n"
          ]
        }
      ]
    },
    {
      "cell_type": "code",
      "source": [
        "#is\n",
        "# to if two variables refer to the same object in memory\n",
        "\n",
        "x = int(input())\n",
        "y = int(input())\n",
        "\n",
        "if x is y:\n",
        "    print(\"x and y are the same.\")\n",
        "else:\n",
        "    print(\"x and y are two different numbers.\")"
      ],
      "metadata": {
        "colab": {
          "base_uri": "https://localhost:8080/"
        },
        "id": "_kT5K43gmNo2",
        "outputId": "b678ddda-db6b-442b-ce55-c5de54b15b5d"
      },
      "execution_count": 79,
      "outputs": [
        {
          "output_type": "stream",
          "name": "stdout",
          "text": [
            "1\n",
            "1\n",
            "x and y are the same.\n"
          ]
        }
      ]
    },
    {
      "cell_type": "code",
      "source": [
        "#return\n",
        "# to  exit a function and return a value\n",
        "\n",
        "def find_even(numbers):\n",
        "    for num in numbers:\n",
        "        if num % 2 == 0:\n",
        "            return num  # Return the first even number found\n",
        "    return None  # Return None if no even number is found\n",
        "\n",
        "numbers = [1, 3, 5, 6, 7, 9]\n",
        "\n",
        "result = find_even(numbers)\n",
        "if result is not None:\n",
        "    print(\"The first even number found is:\", result)\n",
        "else:\n",
        "    print(\"No even number found in the list.\")"
      ],
      "metadata": {
        "id": "3fw-h7g0mOLH"
      },
      "execution_count": 1,
      "outputs": []
    },
    {
      "cell_type": "code",
      "source": [
        "#as\n",
        "#t o assign an alternative name to a variable, module, or exception during import\n",
        "\n",
        "import math as m\n",
        "\n",
        "print(m.sqrt(25))"
      ],
      "metadata": {
        "colab": {
          "base_uri": "https://localhost:8080/"
        },
        "id": "0NNdVBvEmO72",
        "outputId": "226f9415-f2f4-426f-b312-8d6af1b5def1"
      },
      "execution_count": 2,
      "outputs": [
        {
          "output_type": "stream",
          "name": "stdout",
          "text": [
            "5.0\n"
          ]
        }
      ]
    },
    {
      "cell_type": "code",
      "source": [
        "#def\n",
        "# to define a function\n",
        "\n",
        "def print_numbers(start, end):\n",
        "    for num in range(start, end + 1):\n",
        "        print(num)\n",
        "\n",
        "print_numbers(1, 5)"
      ],
      "metadata": {
        "colab": {
          "base_uri": "https://localhost:8080/"
        },
        "id": "pK1OKlIhmRcD",
        "outputId": "abde3ef7-a7f4-4720-bae5-a5c3536a00a0"
      },
      "execution_count": 3,
      "outputs": [
        {
          "output_type": "stream",
          "name": "stdout",
          "text": [
            "1\n",
            "2\n",
            "3\n",
            "4\n",
            "5\n"
          ]
        }
      ]
    },
    {
      "cell_type": "code",
      "source": [
        "#from\n",
        "# to specifically import only the items you need from a module instead of the complete module\n",
        "\n",
        "from statistics import mean, median\n",
        "\n",
        "numbers = [1, 2, 3, 4, 5]\n",
        "\n",
        "print(\"Mean:\", mean(numbers))\n",
        "print(\"Median:\", median(numbers))\n"
      ],
      "metadata": {
        "colab": {
          "base_uri": "https://localhost:8080/"
        },
        "id": "mjLdugf9mSID",
        "outputId": "411b27f8-5f0c-4f86-8ae1-e3746a5e8c97"
      },
      "execution_count": 4,
      "outputs": [
        {
          "output_type": "stream",
          "name": "stdout",
          "text": [
            "Mean: 3\n",
            "Median: 3\n"
          ]
        }
      ]
    },
    {
      "cell_type": "code",
      "source": [
        "#nonlocal\n",
        "# to declare that a variable inside a function of a function is not local to the inner function\n",
        "\n",
        "def outer_func():\n",
        "    x = 0  # Variable in the outer function's scope\n",
        "\n",
        "    def inner_func():\n",
        "        nonlocal x  # Declare that 'x' refers to the variable in the outer function's scope\n",
        "        for i in range(5):\n",
        "            x += i  # Modify the variable 'x'\n",
        "\n",
        "    inner_func()  # Call the inner function\n",
        "    print(\"Value of x after loop in inner function:\", x)\n",
        "\n",
        "outer_func()  # Call the outer function"
      ],
      "metadata": {
        "colab": {
          "base_uri": "https://localhost:8080/"
        },
        "id": "QrTIlJl0mUg6",
        "outputId": "c0cf5f30-3a09-4d89-ffdf-89b6ce3af645"
      },
      "execution_count": 5,
      "outputs": [
        {
          "output_type": "stream",
          "name": "stdout",
          "text": [
            "Value of x after loop in inner function: 10\n"
          ]
        }
      ]
    },
    {
      "cell_type": "code",
      "source": [
        "#while\n",
        "# to repeat a block of code until a certain condition is met\n",
        "\n",
        "count = 0\n",
        "\n",
        "while count < 3:\n",
        "    print(\"Iteration:\", count)\n",
        "\n",
        "    for i in range(2):\n",
        "        print(\"    Inner iteration:\", i)\n",
        "    count += 1\n",
        "\n",
        "print(\"Loop ended\")"
      ],
      "metadata": {
        "colab": {
          "base_uri": "https://localhost:8080/"
        },
        "id": "X4tLA9vEmWoD",
        "outputId": "a0606394-1130-47fd-9963-e00b189d5f1b"
      },
      "execution_count": 6,
      "outputs": [
        {
          "output_type": "stream",
          "name": "stdout",
          "text": [
            "Iteration: 0\n",
            "    Inner iteration: 0\n",
            "    Inner iteration: 1\n",
            "Iteration: 1\n",
            "    Inner iteration: 0\n",
            "    Inner iteration: 1\n",
            "Iteration: 2\n",
            "    Inner iteration: 0\n",
            "    Inner iteration: 1\n",
            "Loop ended\n"
          ]
        }
      ]
    },
    {
      "cell_type": "code",
      "source": [
        "#async\n",
        "# to asynchronously iterate over asynchronous iterable objects\n",
        "\n",
        "import asyncio\n",
        "\n",
        "async def async_generator():\n",
        "    for i in range(5):\n",
        "        yield i\n",
        "        await asyncio.sleep(1)\n",
        "\n",
        "async def consume_async_generator():\n",
        "    async for value in async_generator():\n",
        "        print(\"Received value:\", value)\n",
        "\n",
        "asyncio.run(consume_async_generator())\n"
      ],
      "metadata": {
        "id": "Zr60SoV22vSf"
      },
      "execution_count": null,
      "outputs": []
    },
    {
      "cell_type": "code",
      "source": [
        "#elif\n",
        "# to add more conditions to an if statement\n",
        "\n",
        "x = int(input())\n",
        "\n",
        "if x > 0:\n",
        "    print(\"Positive\")\n",
        "elif x < 0:\n",
        "    print(\"Negative\")\n",
        "else:\n",
        "    print(\"Zero\")"
      ],
      "metadata": {
        "colab": {
          "base_uri": "https://localhost:8080/"
        },
        "id": "a93UStwkmZQU",
        "outputId": "f33c83d0-dd24-4f4a-ce71-1553ccb23313"
      },
      "execution_count": 21,
      "outputs": [
        {
          "output_type": "stream",
          "name": "stdout",
          "text": [
            "0\n",
            "Zero\n"
          ]
        }
      ]
    },
    {
      "cell_type": "code",
      "source": [
        "#if\n",
        "# to execute a block of code if a certain condition is met\n",
        "\n",
        "x = int(input())\n",
        "\n",
        "if x > 0:\n",
        "    print(\"Positive\")\n",
        "if x < 0:\n",
        "    print(\"Negative\")\n",
        "if x == 0:\n",
        "    print(\"Zero\")"
      ],
      "metadata": {
        "colab": {
          "base_uri": "https://localhost:8080/"
        },
        "id": "iXcH-gYYmZqt",
        "outputId": "94b41e11-c4c3-42d3-9f1e-b95d84b2450e"
      },
      "execution_count": 24,
      "outputs": [
        {
          "output_type": "stream",
          "name": "stdout",
          "text": [
            "-1\n",
            "Negative\n"
          ]
        }
      ]
    },
    {
      "cell_type": "code",
      "source": [
        "#not\n",
        "# boolean expression of \"Not\" in given condition\n",
        "\n",
        "numbers = [1, 2, 3, 4, 5]\n",
        "even_numbers = []\n",
        "\n",
        "for num in numbers:\n",
        "    if not num % 2:\n",
        "        even_numbers.append(num)\n",
        "\n",
        "print(\"Even numbers:\", even_numbers)\n"
      ],
      "metadata": {
        "colab": {
          "base_uri": "https://localhost:8080/"
        },
        "id": "7m3SkjQzmb3H",
        "outputId": "c56c7d0c-d502-40a1-a98f-b68f5858b6ba"
      },
      "execution_count": 25,
      "outputs": [
        {
          "output_type": "stream",
          "name": "stdout",
          "text": [
            "Even numbers: [2, 4]\n"
          ]
        }
      ]
    },
    {
      "cell_type": "code",
      "source": [
        "#with\n",
        "# to wrap the execution of a block of code with the given methods defined\n",
        "\n",
        "with open(\"file.txt\", \"r\") as file:\n",
        "    content = file.read()\n",
        "    print(content)"
      ],
      "metadata": {
        "id": "3ZWTc51R4Lq0"
      },
      "execution_count": null,
      "outputs": []
    },
    {
      "cell_type": "code",
      "source": [
        "#assert\n",
        "# a debug tool to check for conditions that should always be true\n",
        "\n",
        "numbers = [1, 2, 3, 4, 5]\n",
        "\n",
        "for num in numbers:\n",
        "    assert num > 0, \"All numbers should be positive\"\n",
        "    #assert num % 2 == 0, \"All numbers should be even\"\n",
        "\n",
        "print(\"All assertions passed successfully\")\n"
      ],
      "metadata": {
        "colab": {
          "base_uri": "https://localhost:8080/"
        },
        "id": "06hM9Ustmc1w",
        "outputId": "f068a143-31d8-430b-e6d7-bfa6d0f2f7fd"
      },
      "execution_count": 29,
      "outputs": [
        {
          "output_type": "stream",
          "name": "stdout",
          "text": [
            "All assertions passed successfully\n"
          ]
        }
      ]
    },
    {
      "cell_type": "code",
      "source": [
        "#del\n",
        "# to delete an item/object from a list\n",
        "\n",
        "numbers = [1, 2, 3, 4, 5]\n",
        "print(\"Original list:\", numbers)\n",
        "\n",
        "for num in numbers[:]:\n",
        "    if num % 2 == 0:\n",
        "        del numbers[numbers.index(num)]\n",
        "\n",
        "print(\"List after deletion:\", numbers)"
      ],
      "metadata": {
        "colab": {
          "base_uri": "https://localhost:8080/"
        },
        "id": "Haa-Dvh5mfbs",
        "outputId": "5c8fb373-66d8-4ea8-84e3-939dedde8c83"
      },
      "execution_count": 30,
      "outputs": [
        {
          "output_type": "stream",
          "name": "stdout",
          "text": [
            "Original list: [1, 2, 3, 4, 5]\n",
            "List after deletion: [1, 3, 5]\n"
          ]
        }
      ]
    },
    {
      "cell_type": "code",
      "source": [
        "#global\n",
        "#  to declare that a variable inside a function is in the global scope instead of only the function\n",
        "\n",
        "counter = 0\n",
        "\n",
        "def increment_counter():\n",
        "    global counter\n",
        "    for _ in range(3):\n",
        "        counter += 1\n",
        "increment_counter()\n",
        "print(\"Counter after increment:\", counter)\n"
      ],
      "metadata": {
        "colab": {
          "base_uri": "https://localhost:8080/"
        },
        "id": "rCioMz0Pmfxx",
        "outputId": "cfa47d60-44f5-45e1-a253-aae9d27aaf92"
      },
      "execution_count": 31,
      "outputs": [
        {
          "output_type": "stream",
          "name": "stdout",
          "text": [
            "Counter after increment: 3\n"
          ]
        }
      ]
    },
    {
      "cell_type": "code",
      "source": [
        "#or\n",
        "# logical operator to combine two conditions.\n",
        "\n",
        "numbers = [1, 2, 3, 4, 5]\n",
        "\n",
        "for num in numbers:\n",
        "    if num == 2 or num == 4:\n",
        "        print(f\"{num} is either 2 or 4\")\n",
        "    else:\n",
        "        print(f\"{num} is not 2 or 4\")\n",
        "\n"
      ],
      "metadata": {
        "colab": {
          "base_uri": "https://localhost:8080/"
        },
        "id": "5YIZV8JzmhhH",
        "outputId": "45e088ff-148d-4bd0-97b7-900333385717"
      },
      "execution_count": 32,
      "outputs": [
        {
          "output_type": "stream",
          "name": "stdout",
          "text": [
            "1 is not 2 or 4\n",
            "2 is either 2 or 4\n",
            "3 is not 2 or 4\n",
            "4 is either 2 or 4\n",
            "5 is not 2 or 4\n"
          ]
        }
      ]
    },
    {
      "cell_type": "code",
      "source": [
        "#yield\n",
        "#  to produce a sequence of values one at a time\n",
        "\n",
        "def generate_numbers():\n",
        "    for i in range(5):\n",
        "        yield i\n",
        "\n",
        "for num in generate_numbers():\n",
        "    print(\"Generated number:\", num)\n"
      ],
      "metadata": {
        "colab": {
          "base_uri": "https://localhost:8080/"
        },
        "id": "6KFh5Y2mmh9h",
        "outputId": "c47a7d1d-9abb-42bc-a483-fa34de4979fe"
      },
      "execution_count": 33,
      "outputs": [
        {
          "output_type": "stream",
          "name": "stdout",
          "text": [
            "Generated number: 0\n",
            "Generated number: 1\n",
            "Generated number: 2\n",
            "Generated number: 3\n",
            "Generated number: 4\n"
          ]
        }
      ]
    }
  ]
}