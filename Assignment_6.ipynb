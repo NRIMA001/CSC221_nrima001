{
  "nbformat": 4,
  "nbformat_minor": 0,
  "metadata": {
    "colab": {
      "provenance": [],
      "authorship_tag": "ABX9TyMiG33vmgR2AfCD8BWn0/ow",
      "include_colab_link": true
    },
    "kernelspec": {
      "name": "python3",
      "display_name": "Python 3"
    },
    "language_info": {
      "name": "python"
    }
  },
  "cells": [
    {
      "cell_type": "markdown",
      "metadata": {
        "id": "view-in-github",
        "colab_type": "text"
      },
      "source": [
        "<a href=\"https://colab.research.google.com/github/NRIMA001/CSC221_nrima001/blob/main/Assignment_6.ipynb\" target=\"_parent\"><img src=\"https://colab.research.google.com/assets/colab-badge.svg\" alt=\"Open In Colab\"/></a>"
      ]
    },
    {
      "cell_type": "code",
      "source": [
        "#TIY 5-1\n",
        "car = 'Nissan'\n",
        "sty_car = 'BMW'\n",
        "car1 = 'Audi'\n",
        "\n",
        "print(\"Is car =='Nissan'? I predict True.\")\n",
        "print(car == 'Nissan')\n",
        "\n",
        "print(\"\\nIs stylish car =='BMW'? I predict True.\")\n",
        "print(sty_car == 'BMW')\n",
        "\n",
        "print(\"\\nIs car1 =='Honda'? I predict False.\")\n",
        "print(car1 == 'Honda')\n",
        "\n",
        "print(\"\\nIs car =='Toyota'? I predict False.\")\n",
        "print(car == 'BMW')\n",
        "\n",
        "print(\"\\nIs 'B' in sty_car? I predict True.\")\n",
        "print('B' in sty_car)\n",
        "\n",
        "print(\"\\nIs car1 =='Audi'? I predict True.\")\n",
        "print(car1 == 'Audi')\n",
        "\n",
        "print(\"\\nIs 'Aud' in car1? I predict True.\")\n",
        "print('Aud' in car1)\n",
        "\n",
        "print(\"\\nIs car =='Subaru'? I predict False.\")\n",
        "print(sty_car == 'Subaru')\n",
        "\n",
        "print(\"\\nIs 'Toy' in car1? I predict False.\")\n",
        "print('Toy' in car1)\n",
        "\n",
        "print(\"\\nIs car =='Lamborghini'? I predict False.\")\n",
        "print(car == 'Lamborghini')"
      ],
      "metadata": {
        "id": "Oe6TiGkXq9WH",
        "colab": {
          "base_uri": "https://localhost:8080/"
        },
        "outputId": "b99103ba-b86c-40b1-f6f9-5bbcf908fd0d"
      },
      "execution_count": 3,
      "outputs": [
        {
          "output_type": "stream",
          "name": "stdout",
          "text": [
            "Is car =='Nissan'? I predict True.\n",
            "True\n",
            "\n",
            "Is stylish car =='BMW'? I predict True.\n",
            "True\n",
            "\n",
            "Is car1 =='Honda'? I predict False.\n",
            "False\n",
            "\n",
            "Is car =='Toyota'? I predict False.\n",
            "False\n",
            "\n",
            "Is 'B' in sty_car? I predict True.\n",
            "True\n",
            "\n",
            "Is car1 =='Audi'? I predict True.\n",
            "True\n",
            "\n",
            "Is 'Aud' in car1? I predict True.\n",
            "True\n",
            "\n",
            "Is car =='Subaru'? I predict False.\n",
            "False\n",
            "\n",
            "Is 'Toy' in car1? I predict False.\n",
            "False\n",
            "\n",
            "Is car =='Lamborghini'? I predict False.\n",
            "False\n"
          ]
        }
      ]
    },
    {
      "cell_type": "code",
      "source": [
        "#TIY 5-2\n",
        "\n",
        "car = ['ford', 'ferrari', 'subaru', 'honda', 'bmw', 'audi', 'hyundai']\n",
        "if car[1] == 'ferrari':\n",
        "  print (\"Yes, It's ferrari!\")\n",
        "\n",
        "if car[0] != 'bmw':\n",
        "  print (\"Yes, It's not bmw!\")\n",
        "\n",
        "if car[3].lower == 'honda':\n",
        "  print (\"Yes, It's honda!\")\n",
        "\n",
        "age = 27\n",
        "if age >= 18:\n",
        "  print (\"yay! you can vote.\")\n",
        "else:\n",
        "  print (\"Sorry, you cannot vote.\")\n",
        "\n",
        "if age > 18 or age== 18:\n",
        "  print(\"Can vote.\")\n",
        "\n",
        "print('ford' in car)\n",
        "print('kawasaki' in car)"
      ],
      "metadata": {
        "colab": {
          "base_uri": "https://localhost:8080/"
        },
        "id": "MJd7gizYWtow",
        "outputId": "2b3d5c97-9dea-4ad5-b86f-c6ff574417aa"
      },
      "execution_count": 4,
      "outputs": [
        {
          "output_type": "stream",
          "name": "stdout",
          "text": [
            "Yes, It's ferrari!\n",
            "Yes, It's not bmw!\n",
            "yay! you can vote.\n",
            "Can vote.\n",
            "True\n",
            "False\n"
          ]
        }
      ]
    },
    {
      "cell_type": "code",
      "source": [
        "#5-3\n",
        "alien_color = ['green', 'yellow', 'red']\n",
        "if 'green' in alien_color:\n",
        "  print(\"Congrats!!! You earned 5 points\")\n",
        "else:\n",
        "  print('Oops. No points earned')"
      ],
      "metadata": {
        "colab": {
          "base_uri": "https://localhost:8080/"
        },
        "id": "WFcLpUBFXv3d",
        "outputId": "6f635f46-7dc6-41d9-a324-5b76a9b744a2"
      },
      "execution_count": 5,
      "outputs": [
        {
          "output_type": "stream",
          "name": "stdout",
          "text": [
            "Congrats!!! You earned 5 points\n"
          ]
        }
      ]
    },
    {
      "cell_type": "code",
      "source": [
        "#5-6\n",
        "age = 69\n",
        "if age<2:\n",
        "  print(\"This is a baby.\")\n",
        "elif 2<= age <4:\n",
        "  print(\"This is a toddler.\")\n",
        "elif 4<= age <13:\n",
        "  print(\"This is a kid.\")\n",
        "elif 13<= age <20:\n",
        "  print(\"This is a teenager.\")\n",
        "elif 20<= age <65:\n",
        "  print(\"This is an adukt.\")\n",
        "elif age>65:\n",
        "  print(\"This is an elder.\")\n",
        ""
      ],
      "metadata": {
        "colab": {
          "base_uri": "https://localhost:8080/"
        },
        "id": "8_-WpP2dYJgF",
        "outputId": "69fdab04-1a60-4775-daf7-a6aecc911648"
      },
      "execution_count": 6,
      "outputs": [
        {
          "output_type": "stream",
          "name": "stdout",
          "text": [
            "This is an elder.\n"
          ]
        }
      ]
    },
    {
      "cell_type": "code",
      "source": [
        "#5-12\n",
        "#Done"
      ],
      "metadata": {
        "id": "WBjkUuQdYsrq"
      },
      "execution_count": null,
      "outputs": []
    },
    {
      "cell_type": "code",
      "source": [
        "#Unique Problem\n",
        "#Pseudocode\n",
        "#1. Ask the user to input the temperature.\n",
        "#2. Read the temperature input from the user.\n",
        "#3. Use if elif elif elif else conditional structure to categorize the temperature:\n",
        "   #a. If temperature is below 0 degrees Celsius, print \"Freezing Cold\".\n",
        "   #b. If temperature is between 0 and 10 degrees Celsius, print \"Cold\".\n",
        "   #c. If temperature is between 10 and 20 degrees Celsius, print \"Moderate Cold\".\n",
        "   #d. If temperature is between 20 and 30 degrees Celsius, print \"Warm\".\n",
        "   #e. If temperature is above 30 degrees Celsius, print \"Hot\".\n",
        "   #f. If temperature is outside of these ranges, print \"Invalid temperature\".\n",
        "\n"
      ],
      "metadata": {
        "id": "fdx5owmVYx7D"
      },
      "execution_count": null,
      "outputs": []
    },
    {
      "cell_type": "code",
      "source": [
        "#Code\n",
        "temperatures = [-5,5,0,30,26]\n",
        "\n",
        "for temperature in temperatures:\n",
        "\n",
        "  if temperature < 0:\n",
        "    print (f\"{temperature} is Freezing Cold\")\n",
        "  elif 0 <= temperature < 10:\n",
        "    print (f\"{temperature} is Cold\")\n",
        "  elif 10 <= temperature < 20:\n",
        "    print (f\"{temperature} is Moderate Cold\")\n",
        "  elif 20 <= temperature < 30:\n",
        "    print (f\"{temperature} is Warm\")\n",
        "  elif temperature >= 30:\n",
        "    print (f\"{temperature} is Hot\")\n",
        "  else:\n",
        "    print (\"Invalid temperature\")"
      ],
      "metadata": {
        "colab": {
          "base_uri": "https://localhost:8080/"
        },
        "id": "mQft2pMXbz_E",
        "outputId": "d1d09b2c-b6b5-4536-8e27-6618247d417c"
      },
      "execution_count": 5,
      "outputs": [
        {
          "output_type": "stream",
          "name": "stdout",
          "text": [
            "-5 is Freezing Cold\n",
            "5 is Cold\n",
            "0 is Cold\n",
            "30 is Hot\n",
            "26 is Warm\n"
          ]
        }
      ]
    }
  ]
}