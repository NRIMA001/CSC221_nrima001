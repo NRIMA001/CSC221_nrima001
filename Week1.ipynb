{
  "nbformat": 4,
  "nbformat_minor": 0,
  "metadata": {
    "colab": {
      "provenance": [],
      "authorship_tag": "ABX9TyPQNHEBFZKqF1w7Wd9RdTel",
      "include_colab_link": true
    },
    "kernelspec": {
      "name": "python3",
      "display_name": "Python 3"
    },
    "language_info": {
      "name": "python"
    }
  },
  "cells": [
    {
      "cell_type": "markdown",
      "metadata": {
        "id": "view-in-github",
        "colab_type": "text"
      },
      "source": [
        "<a href=\"https://colab.research.google.com/github/NRIMA001/CSC221_nrima001/blob/main/Week1.ipynb\" target=\"_parent\"><img src=\"https://colab.research.google.com/assets/colab-badge.svg\" alt=\"Open In Colab\"/></a>"
      ]
    },
    {
      "cell_type": "code",
      "execution_count": null,
      "metadata": {
        "colab": {
          "base_uri": "https://localhost:8080/"
        },
        "id": "f9Ded2rDR1yu",
        "outputId": "4c91ad67-e788-4c96-a5cc-0bac77e9dc42"
      },
      "outputs": [
        {
          "output_type": "stream",
          "name": "stdout",
          "text": [
            "Type in your name:Nitesh\n",
            "Hello, Nitesh!\n"
          ]
        }
      ],
      "source": [
        "#type in your name, I'll say hello\n",
        "\n",
        "\n",
        "name = input('Type in your name:')\n",
        "\n",
        "print(f'Hello, {name}!')\n",
        "\n",
        "total = 0\n",
        "n = 50\n",
        "while n <=700:\n",
        "  total = total + n\n",
        "  n = n+1\n",
        "  if n < 60:\n",
        "    print(n,total)\n",
        "\n",
        "print(total)"
      ]
    },
    {
      "cell_type": "code",
      "source": [],
      "metadata": {
        "id": "LIjSvnJ_SKA1"
      },
      "execution_count": null,
      "outputs": []
    }
  ]
}