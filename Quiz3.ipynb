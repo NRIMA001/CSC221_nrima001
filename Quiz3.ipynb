{
  "nbformat": 4,
  "nbformat_minor": 0,
  "metadata": {
    "colab": {
      "provenance": [],
      "authorship_tag": "ABX9TyNn6zZuyau9WbTzCzVmcxBd",
      "include_colab_link": true
    },
    "kernelspec": {
      "name": "python3",
      "display_name": "Python 3"
    },
    "language_info": {
      "name": "python"
    }
  },
  "cells": [
    {
      "cell_type": "markdown",
      "metadata": {
        "id": "view-in-github",
        "colab_type": "text"
      },
      "source": [
        "<a href=\"https://colab.research.google.com/github/NRIMA001/CSC221_nrima001/blob/main/Quiz3.ipynb\" target=\"_parent\"><img src=\"https://colab.research.google.com/assets/colab-badge.svg\" alt=\"Open In Colab\"/></a>"
      ]
    },
    {
      "cell_type": "code",
      "execution_count": null,
      "metadata": {
        "colab": {
          "base_uri": "https://localhost:8080/"
        },
        "id": "UAUZjHva6GXb",
        "outputId": "3ba2f98f-7f34-4fc0-cb98-70a32ceaa14b"
      },
      "outputs": [
        {
          "output_type": "stream",
          "name": "stdout",
          "text": [
            "Absolute value of -10.9 is 10.9\n"
          ]
        }
      ],
      "source": [
        "#abs()\n",
        "# Returns absolute value\n",
        "\n",
        "num = -10.9\n",
        "abs_num = abs(num)\n",
        "\n",
        "print(f\"Absolute value of {num} is {abs_num}\")"
      ]
    },
    {
      "cell_type": "code",
      "source": [
        "#bin()\n",
        "#Converts integer to binary value\n",
        "\n",
        "numbers = [10, -5, 0]\n",
        "\n",
        "for num in numbers:\n",
        "    binary_representation = bin(num)\n",
        "    print(\"Binary representation of\", num, \"is\", binary_representation)"
      ],
      "metadata": {
        "colab": {
          "base_uri": "https://localhost:8080/"
        },
        "id": "qhMWfHEF67M6",
        "outputId": "6a31fc07-ab79-46c1-b423-d645945c9366"
      },
      "execution_count": null,
      "outputs": [
        {
          "output_type": "stream",
          "name": "stdout",
          "text": [
            "Binary representation of 10 is 0b1010\n",
            "Binary representation of -5 is -0b101\n",
            "Binary representation of 0 is 0b0\n"
          ]
        }
      ]
    },
    {
      "cell_type": "code",
      "source": [
        "#chr()\n",
        "#Converts Unicode code point to character\n",
        "\n",
        "unicode_code_points = [63, 97, 1111]\n",
        "\n",
        "for code_point in unicode_code_points:\n",
        "    character = chr(code_point)\n",
        "    print(f\"Character corresponding to Unicode code point {code_point} is '{character}'\")"
      ],
      "metadata": {
        "colab": {
          "base_uri": "https://localhost:8080/"
        },
        "id": "fLTSdJXV7MXG",
        "outputId": "39c46266-a2b7-41da-9394-dcc1928397de"
      },
      "execution_count": null,
      "outputs": [
        {
          "output_type": "stream",
          "name": "stdout",
          "text": [
            "Character corresponding to Unicode code point 63 is '?'\n",
            "Character corresponding to Unicode code point 97 is 'a'\n",
            "Character corresponding to Unicode code point 1111 is 'ї'\n"
          ]
        }
      ]
    },
    {
      "cell_type": "code",
      "source": [
        "#dict()\n",
        "#Creates an empty dictionary from a list of tuples\n",
        "\n",
        "pairs = [(1, 'a'), (2, 'b'), (3, 'c')]\n",
        "dictionary_from_tuples = dict(pairs)\n",
        "\n",
        "print(\"Dictionary from tuples:\", dictionary_from_tuples)\n",
        "\n",
        "empty_dictionary = dict()\n",
        "\n",
        "print(\"Empty dictionary:\", empty_dictionary)"
      ],
      "metadata": {
        "colab": {
          "base_uri": "https://localhost:8080/"
        },
        "id": "14JCzGMZ7kmn",
        "outputId": "45613564-bcdc-459e-8fb3-0bb497256a20"
      },
      "execution_count": null,
      "outputs": [
        {
          "output_type": "stream",
          "name": "stdout",
          "text": [
            "Dictionary from tuples: {1: 'a', 2: 'b', 3: 'c'}\n",
            "Empty dictionary: {}\n"
          ]
        }
      ]
    },
    {
      "cell_type": "code",
      "source": [
        "#eval()\n",
        "#Evaluates a string expression\n",
        "\n",
        "expression = \"2 + 3 * 4\"\n",
        "result = eval(expression)\n",
        "\n",
        "print(\"Result:\", result)"
      ],
      "metadata": {
        "colab": {
          "base_uri": "https://localhost:8080/"
        },
        "id": "J-C_vTnwLqUP",
        "outputId": "77e2eb96-69b0-41b5-8ce3-638a52162ad7"
      },
      "execution_count": null,
      "outputs": [
        {
          "output_type": "stream",
          "name": "stdout",
          "text": [
            "Result: 14\n"
          ]
        }
      ]
    },
    {
      "cell_type": "code",
      "source": [
        "#float()\n",
        "#Converts a string or integer to a floating-point number\n",
        "\n",
        "string_number = \"3.14\"\n",
        "float_number = float(string_number)\n",
        "\n",
        "print(\"Floating-point number:\", float_number)"
      ],
      "metadata": {
        "colab": {
          "base_uri": "https://localhost:8080/"
        },
        "id": "GhV1KsIFL4UT",
        "outputId": "3f7c3af9-016a-4556-f287-d04fb6b330ad"
      },
      "execution_count": null,
      "outputs": [
        {
          "output_type": "stream",
          "name": "stdout",
          "text": [
            "Floating-point number: 3.14\n"
          ]
        }
      ]
    },
    {
      "cell_type": "code",
      "source": [
        "#getattr()\n",
        "#Get the value of an attribute from an object\n",
        "\n",
        "class Person:\n",
        "    def __init__(self, name, age):\n",
        "        self.name = name\n",
        "        self.age = age\n",
        "\n",
        "person = Person(\"Alice\", 30)\n",
        "\n",
        "name_value = getattr(person, 'name')\n",
        "\n",
        "age_value = getattr(person, 'age', 'N/A')\n",
        "\n",
        "city_value = getattr(person, 'city', 'Unknown')\n",
        "\n",
        "print(\"Name:\", name_value)\n",
        "print(\"Age:\", age_value)\n",
        "print(\"City:\", city_value)\n"
      ],
      "metadata": {
        "colab": {
          "base_uri": "https://localhost:8080/"
        },
        "id": "mxLBogstMBSS",
        "outputId": "c66f7df5-a564-4334-fced-264878410ee7"
      },
      "execution_count": null,
      "outputs": [
        {
          "output_type": "stream",
          "name": "stdout",
          "text": [
            "Name: Alice\n",
            "Age: 30\n",
            "City: Unknown\n"
          ]
        }
      ]
    },
    {
      "cell_type": "code",
      "source": [
        "#help()\n",
        "#Displays the documentation for a module, class, or function\n",
        "\n",
        "\n",
        "\n",
        "help(print)\n",
        "help(list)\n",
        "help(abs)"
      ],
      "metadata": {
        "colab": {
          "base_uri": "https://localhost:8080/"
        },
        "id": "mWDwqEmqMdW3",
        "outputId": "f93b22de-5272-43d4-c578-b21aabf9ebda"
      },
      "execution_count": null,
      "outputs": [
        {
          "output_type": "stream",
          "name": "stdout",
          "text": [
            "Help on built-in function print in module builtins:\n",
            "\n",
            "print(...)\n",
            "    print(value, ..., sep=' ', end='\\n', file=sys.stdout, flush=False)\n",
            "    \n",
            "    Prints the values to a stream, or to sys.stdout by default.\n",
            "    Optional keyword arguments:\n",
            "    file:  a file-like object (stream); defaults to the current sys.stdout.\n",
            "    sep:   string inserted between values, default a space.\n",
            "    end:   string appended after the last value, default a newline.\n",
            "    flush: whether to forcibly flush the stream.\n",
            "\n",
            "Help on class list in module builtins:\n",
            "\n",
            "class list(object)\n",
            " |  list(iterable=(), /)\n",
            " |  \n",
            " |  Built-in mutable sequence.\n",
            " |  \n",
            " |  If no argument is given, the constructor creates a new empty list.\n",
            " |  The argument must be an iterable if specified.\n",
            " |  \n",
            " |  Methods defined here:\n",
            " |  \n",
            " |  __add__(self, value, /)\n",
            " |      Return self+value.\n",
            " |  \n",
            " |  __contains__(self, key, /)\n",
            " |      Return key in self.\n",
            " |  \n",
            " |  __delitem__(self, key, /)\n",
            " |      Delete self[key].\n",
            " |  \n",
            " |  __eq__(self, value, /)\n",
            " |      Return self==value.\n",
            " |  \n",
            " |  __ge__(self, value, /)\n",
            " |      Return self>=value.\n",
            " |  \n",
            " |  __getattribute__(self, name, /)\n",
            " |      Return getattr(self, name).\n",
            " |  \n",
            " |  __getitem__(...)\n",
            " |      x.__getitem__(y) <==> x[y]\n",
            " |  \n",
            " |  __gt__(self, value, /)\n",
            " |      Return self>value.\n",
            " |  \n",
            " |  __iadd__(self, value, /)\n",
            " |      Implement self+=value.\n",
            " |  \n",
            " |  __imul__(self, value, /)\n",
            " |      Implement self*=value.\n",
            " |  \n",
            " |  __init__(self, /, *args, **kwargs)\n",
            " |      Initialize self.  See help(type(self)) for accurate signature.\n",
            " |  \n",
            " |  __iter__(self, /)\n",
            " |      Implement iter(self).\n",
            " |  \n",
            " |  __le__(self, value, /)\n",
            " |      Return self<=value.\n",
            " |  \n",
            " |  __len__(self, /)\n",
            " |      Return len(self).\n",
            " |  \n",
            " |  __lt__(self, value, /)\n",
            " |      Return self<value.\n",
            " |  \n",
            " |  __mul__(self, value, /)\n",
            " |      Return self*value.\n",
            " |  \n",
            " |  __ne__(self, value, /)\n",
            " |      Return self!=value.\n",
            " |  \n",
            " |  __repr__(self, /)\n",
            " |      Return repr(self).\n",
            " |  \n",
            " |  __reversed__(self, /)\n",
            " |      Return a reverse iterator over the list.\n",
            " |  \n",
            " |  __rmul__(self, value, /)\n",
            " |      Return value*self.\n",
            " |  \n",
            " |  __setitem__(self, key, value, /)\n",
            " |      Set self[key] to value.\n",
            " |  \n",
            " |  __sizeof__(self, /)\n",
            " |      Return the size of the list in memory, in bytes.\n",
            " |  \n",
            " |  append(self, object, /)\n",
            " |      Append object to the end of the list.\n",
            " |  \n",
            " |  clear(self, /)\n",
            " |      Remove all items from list.\n",
            " |  \n",
            " |  copy(self, /)\n",
            " |      Return a shallow copy of the list.\n",
            " |  \n",
            " |  count(self, value, /)\n",
            " |      Return number of occurrences of value.\n",
            " |  \n",
            " |  extend(self, iterable, /)\n",
            " |      Extend list by appending elements from the iterable.\n",
            " |  \n",
            " |  index(self, value, start=0, stop=9223372036854775807, /)\n",
            " |      Return first index of value.\n",
            " |      \n",
            " |      Raises ValueError if the value is not present.\n",
            " |  \n",
            " |  insert(self, index, object, /)\n",
            " |      Insert object before index.\n",
            " |  \n",
            " |  pop(self, index=-1, /)\n",
            " |      Remove and return item at index (default last).\n",
            " |      \n",
            " |      Raises IndexError if list is empty or index is out of range.\n",
            " |  \n",
            " |  remove(self, value, /)\n",
            " |      Remove first occurrence of value.\n",
            " |      \n",
            " |      Raises ValueError if the value is not present.\n",
            " |  \n",
            " |  reverse(self, /)\n",
            " |      Reverse *IN PLACE*.\n",
            " |  \n",
            " |  sort(self, /, *, key=None, reverse=False)\n",
            " |      Sort the list in ascending order and return None.\n",
            " |      \n",
            " |      The sort is in-place (i.e. the list itself is modified) and stable (i.e. the\n",
            " |      order of two equal elements is maintained).\n",
            " |      \n",
            " |      If a key function is given, apply it once to each list item and sort them,\n",
            " |      ascending or descending, according to their function values.\n",
            " |      \n",
            " |      The reverse flag can be set to sort in descending order.\n",
            " |  \n",
            " |  ----------------------------------------------------------------------\n",
            " |  Class methods defined here:\n",
            " |  \n",
            " |  __class_getitem__(...) from builtins.type\n",
            " |      See PEP 585\n",
            " |  \n",
            " |  ----------------------------------------------------------------------\n",
            " |  Static methods defined here:\n",
            " |  \n",
            " |  __new__(*args, **kwargs) from builtins.type\n",
            " |      Create and return a new object.  See help(type) for accurate signature.\n",
            " |  \n",
            " |  ----------------------------------------------------------------------\n",
            " |  Data and other attributes defined here:\n",
            " |  \n",
            " |  __hash__ = None\n",
            "\n",
            "Help on built-in function abs in module builtins:\n",
            "\n",
            "abs(x, /)\n",
            "    Return the absolute value of the argument.\n",
            "\n"
          ]
        }
      ]
    },
    {
      "cell_type": "code",
      "source": [
        "#input()\n",
        "#Reads input from the user\n",
        "\n",
        "name = input(\"Enter your name: \")\n",
        "age = input(\"Enter your age: \")\n",
        "\n",
        "print(\"Hello, \" + name + \"! You are \" + age + \" years old.\")"
      ],
      "metadata": {
        "colab": {
          "base_uri": "https://localhost:8080/"
        },
        "id": "cmmVGMYjMuvs",
        "outputId": "83ad58ff-5379-4ceb-d793-4d61ef14e8f1"
      },
      "execution_count": null,
      "outputs": [
        {
          "output_type": "stream",
          "name": "stdout",
          "text": [
            "Enter your name: nitesh\n",
            "Enter your age: 19\n",
            "Hello, nitesh! You are 19 years old.\n"
          ]
        }
      ]
    },
    {
      "cell_type": "code",
      "source": [
        "#len()\n",
        "#Returns the length of a string or a sequence\n",
        "\n",
        "my_list = [1, 2, 3, 4, 5]\n",
        "list_length = len(my_list)\n",
        "\n",
        "print(\"Length of the list:\", list_length)\n",
        "\n",
        "my_string = \"Hello, World!\"\n",
        "string_length = len(my_string)\n",
        "\n",
        "print(\"Length of the string:\", string_length)\n"
      ],
      "metadata": {
        "colab": {
          "base_uri": "https://localhost:8080/"
        },
        "id": "aMKWyd6AM-aR",
        "outputId": "57ae465a-cf2f-4948-e8fc-6b55da4d5f3b"
      },
      "execution_count": null,
      "outputs": [
        {
          "output_type": "stream",
          "name": "stdout",
          "text": [
            "Length of the list: 5\n",
            "Length of the string: 13\n"
          ]
        }
      ]
    },
    {
      "cell_type": "code",
      "source": [
        "#map()\n",
        "#applies a function to each element of an iterable (list, tuple, etc.)\n",
        "numbers = [1, 2, 3, 4, 5]\n",
        "\n",
        "def square(x):\n",
        "    return x ** 2\n",
        "\n",
        "squared_numbers = map(square, numbers)\n",
        "\n",
        "squared_numbers_list = list(squared_numbers)\n",
        "\n",
        "print(\"Original list:\", numbers)\n",
        "print(\"Squared numbers:\", squared_numbers_list)\n"
      ],
      "metadata": {
        "colab": {
          "base_uri": "https://localhost:8080/"
        },
        "id": "CoT6iI6mNOss",
        "outputId": "c6a02624-aceb-4715-f9c2-9e9c3734c701"
      },
      "execution_count": null,
      "outputs": [
        {
          "output_type": "stream",
          "name": "stdout",
          "text": [
            "Original list: [1, 2, 3, 4, 5]\n",
            "Squared numbers: [1, 4, 9, 16, 25]\n"
          ]
        }
      ]
    },
    {
      "cell_type": "code",
      "source": [
        "#next()\n",
        "#Returns the next item in an iterator\n",
        "\n",
        "my_iterable = iter([1, 2, 3, 4, 5])\n",
        "\n",
        "first_item = next(my_iterable)\n",
        "print(\"First item:\", first_item)\n",
        "\n",
        "second_item = next(my_iterable)\n",
        "print(\"Second item:\", second_item)\n",
        "\n",
        "third_item = next(my_iterable)\n",
        "print(\"Third item:\", third_item)"
      ],
      "metadata": {
        "colab": {
          "base_uri": "https://localhost:8080/"
        },
        "id": "t7hyeojLNjVf",
        "outputId": "137d231d-1095-4277-db83-a36c62b93d6a"
      },
      "execution_count": null,
      "outputs": [
        {
          "output_type": "stream",
          "name": "stdout",
          "text": [
            "First item: 1\n",
            "Second item: 2\n",
            "Third item: 3\n"
          ]
        }
      ]
    },
    {
      "cell_type": "code",
      "source": [
        "#octal()\n",
        "#Converts an integer to an octal value\n",
        "\n",
        "oct_num1 = oct(10)  # Decimal 10\n",
        "oct_num2 = oct(20)  # Decimal 20\n",
        "\n",
        "print(\"Octal representation of 10:\", oct_num1)\n",
        "print(\"Octal representation of 20:\", oct_num2)\n",
        "\n",
        "number = 10\n",
        "octal_value = oct(number)\n",
        "\n",
        "print(\"Octal representation of\", number, \"is\", octal_value)"
      ],
      "metadata": {
        "colab": {
          "base_uri": "https://localhost:8080/"
        },
        "id": "a5Dlh3HvNwUP",
        "outputId": "c42d67ba-739a-499b-c55e-612f97e89005"
      },
      "execution_count": null,
      "outputs": [
        {
          "output_type": "stream",
          "name": "stdout",
          "text": [
            "Octal representation of 10: 0o12\n",
            "Octal representation of 20: 0o24\n",
            "Octal representation of 10 is 0o12\n"
          ]
        }
      ]
    },
    {
      "cell_type": "code",
      "source": [
        "#property()\n",
        "#Creates a read-only property\n",
        "\n",
        "class Person:\n",
        "    def __init__(self, name):\n",
        "        self._name = name\n",
        "\n",
        "    @property\n",
        "    def name(self):\n",
        "        return self._name\n",
        "\n",
        "person = Person(\"Alice\")\n",
        "\n",
        "print(\"Name:\", person.name)"
      ],
      "metadata": {
        "colab": {
          "base_uri": "https://localhost:8080/"
        },
        "id": "tiQfyrTAN_uM",
        "outputId": "1e373b74-3356-4c56-8a69-ec87c5899d71"
      },
      "execution_count": null,
      "outputs": [
        {
          "output_type": "stream",
          "name": "stdout",
          "text": [
            "Name: Alice\n"
          ]
        }
      ]
    },
    {
      "cell_type": "code",
      "source": [
        "#range()\n",
        "#Generates a sequence of numbers\n",
        "\n",
        "numbers1 = range(10)\n",
        "\n",
        "numbers2 = range(2, 10)\n",
        "\n",
        "numbers3 = range(1, 11, 2)\n",
        "\n",
        "print(\"Numbers 1:\", list(numbers1))\n",
        "print(\"Numbers 2:\", list(numbers2))\n",
        "print(\"Numbers 3:\", list(numbers3))"
      ],
      "metadata": {
        "colab": {
          "base_uri": "https://localhost:8080/"
        },
        "id": "uiNPVZ4wMwQl",
        "outputId": "d33e9b34-54c4-434d-ee53-3187eb2bc1c2"
      },
      "execution_count": 1,
      "outputs": [
        {
          "output_type": "stream",
          "name": "stdout",
          "text": [
            "Numbers 1: [0, 1, 2, 3, 4, 5, 6, 7, 8, 9]\n",
            "Numbers 2: [2, 3, 4, 5, 6, 7, 8, 9]\n",
            "Numbers 3: [1, 3, 5, 7, 9]\n"
          ]
        }
      ]
    },
    {
      "cell_type": "code",
      "source": [
        "#sum()\n",
        "#Calculates the sum of a sequence of numbers\n",
        "\n",
        "numbers = [1, 2, 3, 4, 5]\n",
        "\n",
        "total = sum(numbers)\n",
        "\n",
        "print(\"Sum of numbers:\", total)"
      ],
      "metadata": {
        "colab": {
          "base_uri": "https://localhost:8080/"
        },
        "id": "XAsHy0qANbkO",
        "outputId": "28d3bf65-e89a-4840-80ac-d6bff429a37d"
      },
      "execution_count": 2,
      "outputs": [
        {
          "output_type": "stream",
          "name": "stdout",
          "text": [
            "Sum of numbers: 15\n"
          ]
        }
      ]
    },
    {
      "cell_type": "code",
      "source": [
        "#type()\n",
        "#Returns the type of an object\n",
        "\n",
        "integer_var = 42\n",
        "float_var = 3.14\n",
        "string_var = \"Hello, World!\"\n",
        "list_var = [1, 2, 3]\n",
        "\n",
        "print(\"Type of integer_var:\", type(integer_var))\n",
        "print(\"Type of float_var:\", type(float_var))\n",
        "print(\"Type of string_var:\", type(string_var))\n",
        "print(\"Type of list_var:\", type(list_var))"
      ],
      "metadata": {
        "colab": {
          "base_uri": "https://localhost:8080/"
        },
        "id": "ExwCJ87KNl4E",
        "outputId": "214ff41c-f02c-4030-84e2-d21f641144bc"
      },
      "execution_count": 3,
      "outputs": [
        {
          "output_type": "stream",
          "name": "stdout",
          "text": [
            "Type of integer_var: <class 'int'>\n",
            "Type of float_var: <class 'float'>\n",
            "Type of string_var: <class 'str'>\n",
            "Type of list_var: <class 'list'>\n"
          ]
        }
      ]
    },
    {
      "cell_type": "code",
      "source": [
        "#vars()\n",
        "#Returns a dictionary containing the attributes and values of an object\n",
        "\n",
        "class Person:\n",
        "    def __init__(self, name, age):\n",
        "        self.name = name\n",
        "        self.age = age\n",
        "\n",
        "person = Person(\"Alice\", 30)\n",
        "\n",
        "person_attributes = vars(person)\n",
        "\n",
        "print(\"Person attributes:\", person_attributes)"
      ],
      "metadata": {
        "colab": {
          "base_uri": "https://localhost:8080/"
        },
        "id": "sNDXVQFAN9jb",
        "outputId": "87e81473-d9be-4496-de9d-1e126256eee8"
      },
      "execution_count": 4,
      "outputs": [
        {
          "output_type": "stream",
          "name": "stdout",
          "text": [
            "Person attributes: {'name': 'Alice', 'age': 30}\n"
          ]
        }
      ]
    },
    {
      "cell_type": "code",
      "source": [
        "#zip()\n",
        "#Combines two or more iterables into a single iterator\n",
        "\n",
        "names = [\"Alice\", \"Bob\", \"Charlie\"]\n",
        "ages = [25, 30, 35]\n",
        "\n",
        "zipped_data = zip(names, ages)\n",
        "\n",
        "print(\"Zipped data:\", list(zipped_data))"
      ],
      "metadata": {
        "colab": {
          "base_uri": "https://localhost:8080/"
        },
        "id": "GXUP7PMAN9yQ",
        "outputId": "f2b92aea-417b-42dd-fe63-a74cdd947bbf"
      },
      "execution_count": 6,
      "outputs": [
        {
          "output_type": "stream",
          "name": "stdout",
          "text": [
            "Zipped data: [('Alice', 25), ('Bob', 30), ('Charlie', 35)]\n"
          ]
        }
      ]
    },
    {
      "cell_type": "code",
      "source": [
        "#__import__()\n",
        "# to import the math module dynamically\n",
        "\n",
        "math_module = __import__('math')\n",
        "\n",
        "number = 16\n",
        "square_root = math_module.sqrt(number)\n",
        "\n",
        "print(\"Square root of\", number, \"is\", square_root)"
      ],
      "metadata": {
        "colab": {
          "base_uri": "https://localhost:8080/"
        },
        "id": "0saGXozwN97o",
        "outputId": "53c1bf67-8b03-49a5-ecc5-d734a9574b91"
      },
      "execution_count": 7,
      "outputs": [
        {
          "output_type": "stream",
          "name": "stdout",
          "text": [
            "Square root of 16 is 4.0\n"
          ]
        }
      ]
    }
  ]
}